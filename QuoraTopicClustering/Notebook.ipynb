{
 "cells": [
  {
   "cell_type": "code",
   "execution_count": 1,
   "metadata": {},
   "outputs": [],
   "source": [
    "import json \n",
    "f = open(\"answered_data_10k.in\").read().split(\"\\n\")\n",
    "train_set = f[1:9001]\n",
    "test_set = f[9002:-1]\n",
    "train = [json.loads(i) for i in train_set]\n",
    "test = [json.loads(i) for i in test_set]\n",
    "questions = train + test "
   ]
  },
  {
   "cell_type": "code",
   "execution_count": 197,
   "metadata": {},
   "outputs": [
    {
     "name": "stdout",
     "output_type": "stream",
     "text": [
      "8762\n"
     ]
    }
   ],
   "source": [
    "# Create the list of topics \n",
    "topic_list = []\n",
    "for question in questions:\n",
    "    if len(question[\"topics\"]) > 0:\n",
    "        for topic in question[\"topics\"]:\n",
    "            topic_list = topic_list + [topic[\"name\"]]\n",
    "            \n",
    "#print(list(set(topic_list)))\n",
    "topic_list = list(set(topic_list))\n",
    "print(len(topic_list))"
   ]
  },
  {
   "cell_type": "code",
   "execution_count": 118,
   "metadata": {},
   "outputs": [],
   "source": [
    "question_list = []\n",
    "final_topic_list = []\n",
    "for topic in topic_list:\n",
    "    temp = []\n",
    "    for question in questions:\n",
    "        context = [i[\"name\"] for i in question[\"topics\"]]\n",
    "        if topic in context:\n",
    "            temp.append(question['question_text'])   \n",
    "    if len(temp) >= 5:\n",
    "        question_list.append(temp)\n",
    "        final_topic_list.append(topic)\n",
    "topic_list = final_topic_list"
   ]
  },
  {
   "cell_type": "code",
   "execution_count": 119,
   "metadata": {},
   "outputs": [
    {
     "data": {
      "text/plain": [
       "['What kind of equation will Narendra Modi share with businessmen like Mukesh Ambani if he becomes the PM?',\n",
       " \"What is the success of Narendra Modi's social media campaign ? What worked and what did not work?\",\n",
       " 'Can Narendra Modi be made Prime Minister of India?',\n",
       " 'Why are valid arguments against Narendra Modi downvoted by quorans?',\n",
       " 'How are Sajjan Kumar, Jagdish Tytler  able to sleep at night?',\n",
       " \"Do you agree with Rahul Gandhi's comparision of India to a beehive?\",\n",
       " 'Who are the uncorrupt politicians in India today?']"
      ]
     },
     "execution_count": 119,
     "metadata": {},
     "output_type": "execute_result"
    }
   ],
   "source": [
    "question_list[0]"
   ]
  },
  {
   "cell_type": "code",
   "execution_count": 120,
   "metadata": {},
   "outputs": [
    {
     "data": {
      "text/plain": [
       "{'question_text': 'Why are many educators against rote memorization?',\n",
       " 'context_topic': {'followers': 81915, 'name': 'Edtech'},\n",
       " 'topics': [{'followers': 5572, 'name': 'Human Memory'},\n",
       "  {'followers': 333812, 'name': 'Education'},\n",
       "  {'followers': 81915, 'name': 'Edtech'}],\n",
       " 'question_key': 'AAEAALPskzeH7yEqd7o+nDWmMJnjAPedwWOaxnGKWO0ZXGsF',\n",
       " 'anonymous': False}"
      ]
     },
     "execution_count": 120,
     "metadata": {},
     "output_type": "execute_result"
    }
   ],
   "source": [
    "test[0]"
   ]
  },
  {
   "cell_type": "code",
   "execution_count": 121,
   "metadata": {},
   "outputs": [],
   "source": [
    "total_questions = [i['question_text'] for i in questions]"
   ]
  },
  {
   "cell_type": "code",
   "execution_count": 122,
   "metadata": {},
   "outputs": [
    {
     "name": "stdout",
     "output_type": "stream",
     "text": [
      "['gradient', 'log', 'likelihood', 'function', 'multinomial', 'logistic', 'regression']\n"
     ]
    }
   ],
   "source": [
    "from nltk import word_tokenize\n",
    "from nltk.corpus import stopwords\n",
    "def normalize(string):\n",
    "    lst = word_tokenize(string)\n",
    "    lst =[word.lower() for word in lst if word.isalpha()]\n",
    "    lst = [w for w in lst if not w in stopwords.words('english')]\n",
    "    return(lst)\n",
    "print(normalize(\"What is the gradient of the log likelihood function in  multinomial logistic regression?\"))"
   ]
  },
  {
   "cell_type": "code",
   "execution_count": 123,
   "metadata": {},
   "outputs": [],
   "source": [
    "from gensim import models\n",
    "from gensim.models.doc2vec import TaggedDocument\n",
    "docs = []\n",
    "for index, item in enumerate(topic_list):\n",
    "    question = \" \".join(question_list[index])\n",
    "    question = normalize(question)\n",
    "    docs.append(TaggedDocument(words=question, tags=[item]))"
   ]
  },
  {
   "cell_type": "code",
   "execution_count": 124,
   "metadata": {},
   "outputs": [],
   "source": [
    "import gensim\n",
    "model = gensim.models.Doc2Vec(vector_size= 200, window= 3, min_count= 0, workers=4, epochs= 40)\n",
    "model.build_vocab(docs)"
   ]
  },
  {
   "cell_type": "code",
   "execution_count": 125,
   "metadata": {},
   "outputs": [
    {
     "name": "stderr",
     "output_type": "stream",
     "text": [
      "/Users/samriddhisinha/anaconda3/lib/python3.6/site-packages/ipykernel_launcher.py:1: DeprecationWarning: Call to deprecated `iter` (Attribute will be removed in 4.0.0, use self.epochs instead).\n",
      "  \"\"\"Entry point for launching an IPython kernel.\n"
     ]
    }
   ],
   "source": [
    "model.train(docs, total_examples=model.corpus_count, epochs=model.iter)"
   ]
  },
  {
   "cell_type": "code",
   "execution_count": 126,
   "metadata": {},
   "outputs": [],
   "source": [
    "topic_list[0]\n",
    "v = normalize(\" \".join(question_list[0]))\n",
    "new_vector = model.infer_vector(v)"
   ]
  },
  {
   "cell_type": "code",
   "execution_count": 127,
   "metadata": {},
   "outputs": [],
   "source": [
    "sims = model.docvecs.most_similar([new_vector])"
   ]
  },
  {
   "cell_type": "code",
   "execution_count": 128,
   "metadata": {},
   "outputs": [
    {
     "data": {
      "text/plain": [
       "[('Narendra Modi', 0.9076288938522339),\n",
       " ('Italy', 0.8100892305374146),\n",
       " ('Malaysia', 0.806121289730072),\n",
       " ('Thailand', 0.7989392280578613),\n",
       " ('Government Leaders and Politicians', 0.7941255569458008),\n",
       " ('Pakistan', 0.7893249988555908),\n",
       " ('Traffic', 0.7881889343261719),\n",
       " ('Muslims', 0.786828875541687),\n",
       " ('Hindu Mythology', 0.785515546798706),\n",
       " ('Fraud', 0.7854477167129517)]"
      ]
     },
     "execution_count": 128,
     "metadata": {},
     "output_type": "execute_result"
    }
   ],
   "source": [
    "sims"
   ]
  },
  {
   "cell_type": "code",
   "execution_count": 103,
   "metadata": {},
   "outputs": [
    {
     "data": {
      "text/plain": [
       "array([-0.51128054,  0.16622885, -0.09665149, -0.10761113,  0.22906348,\n",
       "        0.27958447, -0.45562935, -0.21857081, -0.32309347, -0.11290986,\n",
       "        0.33438525,  0.260576  , -0.17534818, -0.15424928,  0.3976475 ,\n",
       "       -0.12527218, -0.32646924, -0.03553891,  0.01065946, -0.28677174,\n",
       "        0.30294332, -0.12917349, -0.00961373,  0.29996324, -0.26978362,\n",
       "        0.06984522, -0.00777686,  0.2593202 ,  0.06476465,  0.3984293 ,\n",
       "        0.05178346, -0.22881095,  0.27749172, -0.6215864 ,  0.28114277,\n",
       "        0.7356445 ,  0.5027659 ,  0.34283808,  0.42751876,  0.11608803,\n",
       "        0.215015  , -0.21994627,  0.35024744, -0.46035957, -0.12760904,\n",
       "        0.34656712, -0.2788846 , -0.34857896,  0.08869379, -0.3277905 ,\n",
       "       -0.38234517, -0.11257434, -0.11948769, -0.02129064,  0.20298053,\n",
       "        0.542678  , -0.12476667, -0.5802649 , -0.00187753, -0.12970805,\n",
       "        0.2912424 , -0.22362942, -0.14180821,  0.21643765, -0.30660117,\n",
       "       -0.32597858, -0.8228911 ,  0.39147824,  0.45930934,  0.13338856,\n",
       "       -0.24860531, -0.04929555, -0.08942311, -0.05847482, -0.356644  ,\n",
       "       -0.11607558,  0.06521701,  0.61381364, -0.12874147, -0.03767804,\n",
       "        0.15838753, -0.14505526, -0.19641931, -0.25108314, -0.22883892,\n",
       "        0.11595604,  0.2745356 , -0.34470198, -0.15277609,  0.14688994,\n",
       "       -0.49239147, -0.12931144,  0.20308928, -0.05147799, -0.2171508 ,\n",
       "       -0.4102218 , -0.22636868,  0.19341892,  0.08881211, -0.08790401,\n",
       "       -0.01235668,  0.5224002 , -0.2040947 , -0.60893285,  0.01829545,\n",
       "        0.4643809 ,  0.02982386,  0.31317008,  0.11484643,  0.00162536,\n",
       "        0.30236995, -0.11553606, -0.5469716 ,  0.19287269,  0.11572187,\n",
       "       -0.45673963,  0.35288548,  0.2519772 , -0.33829612, -0.307206  ,\n",
       "       -0.16078165,  0.5263783 ,  0.27376524, -0.42927933, -0.4844639 ,\n",
       "        0.31442374, -0.5858179 , -0.0320568 ,  0.16621888, -0.28071192,\n",
       "        0.03171317,  0.31186077, -0.49480692, -0.4706218 ,  0.51286554,\n",
       "       -0.19561356, -0.06256675, -0.06622373,  0.19851635,  0.00566235,\n",
       "       -0.79172426,  0.16870713, -0.0671991 , -0.12464919, -0.15063703,\n",
       "        0.63630116, -0.22525014,  0.19812922, -0.17648207, -0.2624903 ,\n",
       "        0.19280927, -0.6061296 ,  0.3567135 ,  0.40402052,  0.35418454,\n",
       "        0.614738  , -0.86435485, -0.12016187,  0.30394244, -0.5171811 ,\n",
       "       -0.2290623 , -0.46662164,  0.3189707 , -0.3776002 , -0.16800714,\n",
       "        0.13492751, -0.10351674,  0.1361311 , -0.3209206 , -0.2130541 ,\n",
       "        0.0598455 ,  0.3359171 ,  0.0378512 ,  0.6975124 , -0.46542317,\n",
       "       -0.26044637, -0.52264214,  0.21687426,  0.17611353, -0.13005134,\n",
       "        0.27659032,  0.33758458,  0.7828758 ,  0.06376703, -0.18335809,\n",
       "       -0.8132446 , -0.22899647,  0.24662559,  0.08547539,  0.04877435,\n",
       "       -0.5026727 ,  0.1212597 , -0.34811407, -0.13022864,  0.26990715,\n",
       "       -0.24428886, -0.09500815,  0.90441096, -0.20141658, -0.14490381],\n",
       "      dtype=float32)"
      ]
     },
     "execution_count": 103,
     "metadata": {},
     "output_type": "execute_result"
    }
   ],
   "source": [
    "model.docvecs[0]"
   ]
  },
  {
   "cell_type": "code",
   "execution_count": 104,
   "metadata": {},
   "outputs": [
    {
     "name": "stderr",
     "output_type": "stream",
     "text": [
      "/Users/samriddhisinha/anaconda3/lib/python3.6/site-packages/ipykernel_launcher.py:1: DeprecationWarning: Call to deprecated `doctag_syn0` (Attribute will be removed in 4.0.0, use docvecs.vectors_docs instead).\n",
      "  \"\"\"Entry point for launching an IPython kernel.\n"
     ]
    },
    {
     "data": {
      "text/plain": [
       "array([[-0.51128054,  0.16622885, -0.09665149, ...,  0.90441096,\n",
       "        -0.20141658, -0.14490381],\n",
       "       [-1.7649946 , -0.8850348 ,  1.0393354 , ..., -0.56674653,\n",
       "        -0.95500946, -0.04873444],\n",
       "       [-1.0921516 , -0.11721303,  0.02135609, ...,  0.09897545,\n",
       "        -0.04768512, -0.34650004],\n",
       "       ...,\n",
       "       [-0.54627424, -0.2745405 , -0.17318411, ...,  0.07198118,\n",
       "        -0.2532572 , -0.10942733],\n",
       "       [-0.7118413 , -0.09812168,  0.07976667, ..., -0.29185018,\n",
       "        -0.5906264 , -0.15215701],\n",
       "       [-0.37566677, -0.14633629, -0.4618716 , ...,  0.03535339,\n",
       "        -0.14305544, -0.20114605]], dtype=float32)"
      ]
     },
     "execution_count": 104,
     "metadata": {},
     "output_type": "execute_result"
    }
   ],
   "source": [
    "model.docvecs.doctag_syn0"
   ]
  },
  {
   "cell_type": "code",
   "execution_count": 164,
   "metadata": {},
   "outputs": [
    {
     "name": "stderr",
     "output_type": "stream",
     "text": [
      "/Users/samriddhisinha/anaconda3/lib/python3.6/site-packages/ipykernel_launcher.py:7: DeprecationWarning: Call to deprecated `doctag_syn0` (Attribute will be removed in 4.0.0, use docvecs.vectors_docs instead).\n",
      "  import sys\n",
      "/Users/samriddhisinha/anaconda3/lib/python3.6/site-packages/ipykernel_launcher.py:10: DeprecationWarning: Call to deprecated `doctag_syn0` (Attribute will be removed in 4.0.0, use docvecs.vectors_docs instead).\n",
      "  # Remove the CWD from sys.path while we load stuff.\n",
      "/Users/samriddhisinha/anaconda3/lib/python3.6/site-packages/ipykernel_launcher.py:11: DeprecationWarning: Call to deprecated `doctag_syn0` (Attribute will be removed in 4.0.0, use docvecs.vectors_docs instead).\n",
      "  # This is added back by InteractiveShellApp.init_path()\n",
      "/Users/samriddhisinha/anaconda3/lib/python3.6/site-packages/ipykernel_launcher.py:12: DeprecationWarning: Call to deprecated `doctag_syn0` (Attribute will be removed in 4.0.0, use docvecs.vectors_docs instead).\n",
      "  if sys.path[0] == '':\n"
     ]
    }
   ],
   "source": [
    "from sklearn.cluster import KMeans\n",
    "from sklearn import metrics\n",
    "import pylab as pl\n",
    "import matplotlib.pyplot as plt\n",
    "from sklearn.decomposition import PCA\n",
    "kmeans_model = KMeans(n_clusters= 60, init='k-means++', max_iter=200)  \n",
    "X = kmeans_model.fit(model.docvecs.doctag_syn0)\n",
    "labels= kmeans_model.labels_.tolist()\n",
    "\n",
    "l = kmeans_model.fit_predict(model.docvecs.doctag_syn0)\n",
    "pca = PCA(n_components=3).fit(model.docvecs.doctag_syn0)\n",
    "datapoint = pca.transform(model.docvecs.doctag_syn0)\n"
   ]
  },
  {
   "cell_type": "code",
   "execution_count": 169,
   "metadata": {},
   "outputs": [
    {
     "data": {
      "text/plain": [
       "900"
      ]
     },
     "execution_count": 169,
     "metadata": {},
     "output_type": "execute_result"
    }
   ],
   "source": [
    "len(labels)"
   ]
  },
  {
   "cell_type": "code",
   "execution_count": 190,
   "metadata": {},
   "outputs": [
    {
     "data": {
      "image/png": "[encoded data removed]",
      "text/plain": [
       "<Figure size 432x288 with 1 Axes>"
      ]
     },
     "metadata": {},
     "output_type": "display_data"
    }
   ],
   "source": [
    "plt.figure\n",
    "from itertools import cycle\n",
    "cycol = cycle('bgrcmk')\n",
    "from random import randint\n",
    "color = '#{:06x}'.format(randint(0, 256**3))\n",
    "import numpy as np\n",
    "from mpl_toolkits.mplot3d import Axes3D\n",
    "\n",
    "#label1 = [\"#FFFF00\", \"#008000\", \"#0000FF\", \"#800080\", \"#D3D3D3\", \"#FFC0CB\", \"#F0E68C\", \"#9932CC\", \"#f5f5dc\", \"#b87333\"]\n",
    "\n",
    "label1 = ['#{:06x}'.format(randint(0, 256**3)) for i in range(60)]\n",
    "color = [label1[i] for i in labels]\n",
    "\n",
    "fig = plt.figure()\n",
    "ax = fig.add_subplot(111, projection='3d')\n",
    "ax.scatter(datapoint[:, 0], datapoint[:, 1], datapoint[:, 2], c=color)\n",
    "#for i in range(900):\n",
    "#    ax.annotate(topic_list, (datapoint[:, 0], datapoint[:, 1], datapoint[:, 2]))\n",
    "centroids = kmeans_model.cluster_centers_\n",
    "centroidpoint = pca.transform(centroids)\n",
    "#plt.scatter(centroidpoint[:, 0], centroidpoint[:, 1], marker='^', s=150, c='#000000')\n",
    "#plt.show()\n",
    "plt.show()"
   ]
  },
  {
   "cell_type": "code",
   "execution_count": null,
   "metadata": {},
   "outputs": [],
   "source": [
    "word_centroid_map = dict(zip( model.docvecs.offset2doctag, l))"
   ]
  },
  {
   "cell_type": "code",
   "execution_count": 159,
   "metadata": {},
   "outputs": [
    {
     "name": "stdout",
     "output_type": "stream",
     "text": [
      "\n",
      "Cluster 0\n",
      "['Web Application Frameworks', 'Front-End Web Development', 'User Experience', 'APIs', 'User Interfaces', 'HTML', 'YouTube', 'jQuery', 'Cascading Style Sheets', 'Online Video', 'iPad', 'Web Applications', 'Adobe Illustrator', 'Database Systems', 'Graphic Design', 'Mobile UI Design', 'Game Development', 'HTML5', 'Photography', 'iPad Applications', 'Design', 'Ruby (programming language)', 'Adobe Photoshop', 'Interaction Design', 'User Interface Design', 'Video Editing', 'WordPress Plugins', 'iOS Applications']\n",
      "\n",
      "Cluster 1\n",
      "['History of India', 'Pakistan', 'Indian People', 'Facts and Trivia', 'India Against Corruption', 'China', 'Mumbai', 'Cricket (sport)', 'Politics in India', 'Culture of India']\n",
      "\n",
      "Cluster 2\n",
      "['Small Businesses', 'Investing', 'Marketing', 'Business Models', 'Business Strategy', 'Business', 'Finance']\n",
      "\n",
      "Cluster 3\n",
      "['Web Marketing', 'Twitter', 'Blogs', 'Blogging', 'Advertising and Advertisements', 'Digital Marketing', 'WordPress', 'Search Engine Optimization (SEO)', 'Websites', 'Internet Advertising', 'E-Commerce']\n",
      "\n",
      "Cluster 4\n",
      "['Medical Research', 'Cancer', 'Cannabis', 'Drugs and Pharmaceuticals', 'Doctors']\n",
      "\n",
      "Cluster 5\n",
      "['Emotions', 'Self-Awareness', 'Advice', 'Cognitive Science', 'Habits', 'Decision Making', 'Motivation', 'Conversations', 'Tips and Hacks for Everyday Life', 'Knowledge', 'Consciousness', 'Mental Illness', 'Communication', 'Philosophy of Mind', 'Positive Psychology', 'Attention Deficit Disorder', 'Cognitive Psychology', 'Happiness', 'Time', 'Cognitive Neuroscience', 'Public Speaking', 'Personality', 'People Skills', 'Intelligence', 'Empathy']\n",
      "\n",
      "Cluster 6\n",
      "['The Universe', 'Quantum Mechanics', 'Cosmology', 'Particle Physics', 'Theoretical Physics', 'The Big Bang', 'Biology', 'Space Exploration', 'Outer Space', 'Astronomy', 'Earth', 'Evolutionary Biology', 'Astrophysics', 'NASA', 'Chemistry (physical science)', 'Animals']\n",
      "\n",
      "Cluster 7\n",
      "['Sex', 'Marriage', 'Homosexuality', 'Men', 'Sexuality', 'Feminism', 'Women', 'Children', 'Parenting']\n",
      "\n",
      "Cluster 8\n",
      "['Conservatism (politics)', 'International Economics', 'Terrorism', 'Israel', 'U.S. History', 'Government', 'International Politics', 'Europe', 'The United States of America', 'U.S. Presidents', 'Democracy', 'Military History and Wars', 'World History', 'History', 'U.S. Economy']\n",
      "\n",
      "Cluster 9\n",
      "['Narendra Modi', 'Macroeconomics', 'Corporations', 'Russia', 'Church', 'U.S. Marine Corps', 'Agriculture', 'Flying', 'Hurricane Sandy (October 2012)', 'U.S. Congress', 'Currencies', 'Ancient History', 'North Korea', 'Central Intelligence Agency', 'Attorneys', 'Motorcycles and Motorcycling', 'Muslims', 'Libertarianism', 'World War II', 'Meteor in Russia (February 2013)', 'Natural Disasters', 'UK Politics', 'The Cold War (1946–1989)', 'Immigration', 'Warfare', 'Weapons', 'United States Armed Forces', 'Saudi Arabia', 'Australia', 'Hypothetical Battles', 'Ethnic and Cultural Differences', 'Airports', 'Health Insurance', 'Indonesia', 'Great Britain', 'International Trade', 'U.S. Supreme Court', 'American Culture', 'United States Governments (Federal, State, Local)', 'Military Technology', 'Malaysia', 'Alternate Histories (Historical \"What-Ifs\")', 'Foreign Policy', 'Asian People', 'U.S. Army', 'Voting', 'Israeli-Palestinian Conflict', 'The Future', 'Italy', 'Poverty', 'European Union', 'U.S. Navy', 'Africa', 'Civil Liberties', 'Capitalism', 'Countries', 'Conspiracy Theories', 'Military', 'Democratic Party (U.S.)', 'Prisons', 'Airplanes', 'Singapore', 'U.S. Constitution', 'France', 'Public Education', 'Japan', 'Government Leaders and Politicians', 'Asian Americans', 'Economy of India', 'The World', 'President of the United States of America', 'Statistics (collected data)', 'U.S. Federal Budget', 'Newspapers', 'Hindu Mythology', 'Asia']\n",
      "\n",
      "Cluster 10\n",
      "['Advertisement or Self-Promotional Question', 'Answers (Quora feature)', 'Quora Meetups', 'Topics (Quora feature)', 'Memes', 'Quora Feature Requests', 'Journalism', 'Quotations', 'Best Of X', 'Anonymity', 'Joke Question', 'Upvoting and Downvoting on Quora', 'Jimmy Wales', 'Specific Quora Users', 'Humor', 'Quora Policies and Guidelines', 'Quora User Feedback', 'Views on Quora (feature)', 'Top Writers on Quora', 'Quora (company)', 'Quora Credits', 'Quora Usage Data and Analysis']\n",
      "\n",
      "Cluster 11\n",
      "['Islam', 'God', 'Hinduism']\n",
      "\n",
      "Cluster 12\n",
      "['Statistics (academic discipline)', 'Research', 'Electrical Engineering', 'Microsoft Windows', 'Computer Vision', 'Technology', 'Computer Science Research', 'Big Data', 'Computer Security', 'Artificial Intelligence', 'Computers', 'Operating Systems', 'Data Mining', 'Scientific Research']\n",
      "\n",
      "Cluster 13\n",
      "['Survey Questions']\n",
      "\n",
      "Cluster 14\n",
      "['Life Lessons', 'Life Advice', 'Human Behavior', 'Social Psychology', 'Self-Improvement']\n",
      "\n",
      "Cluster 15\n",
      "['Mathematics']\n",
      "\n",
      "Cluster 16\n",
      "['Cars and Automobiles']\n",
      "\n",
      "Cluster 17\n",
      "['Data Science', 'Project Management', 'Streaming Video', 'VoIP', 'Linux Kernel', 'Consumer Technology', 'Energy', 'Computer Graphics', 'Windows Phone', 'Computer Games', 'Data Analysis', 'Home Improvement', 'International Space Station', 'Apache Hadoop', 'Typeface Identification', '3D Printing', 'Construction', 'Computer Hardware', 'iPad mini', 'Node.js', 'Unix', 'Wi-Fi', 'Biochemistry', 'Software', 'Computer Networking', 'Tablet Devices and Tablet Market', 'Audio Equipment', 'Aerospace Engineering', 'Alternative Energy', 'Analytics', 'Hard Disk Drives (HDD)', 'RFID', 'Information and Communications Technology (ICT)', 'Laptops', 'Privacy', 'NoSQL', 'Computer Hacking', 'GitHub', 'Vision (eyesight)', 'Game Design', 'Distributed Systems', 'Mobile Software Development', 'Coursera', 'Human-Computer Interaction', 'History of Computing', 'Electricity', 'Conferences and Conventions', 'Space Travel']\n",
      "\n",
      "Cluster 18\n",
      "['Steve Jobs', 'Technology Trends', 'Robotics', 'Sustainable Technology', 'Chemical Engineering', 'Engineering', 'Workplace and Professional Etiquette', 'Engineering Recruiting', 'Insurance', 'Pricing', 'Salaries', 'Electronics', 'Driving', 'Future of Technology', 'Manufacturing', 'McKinsey & Company', 'Automotive Industry', 'Civil Engineering', 'California', 'Innovation', 'Patents', 'Tesla Motors Inc.', 'Work', 'Product Design (physical goods)', 'U.S. Immigration', 'Mechanical Engineering']\n",
      "\n",
      "Cluster 19\n",
      "['Singers and Musicians', 'Music', 'Rock Music', 'Needs to Be Clearer', 'Music Industry']\n",
      "\n",
      "Cluster 20\n",
      "['Movies']\n",
      "\n",
      "Cluster 21\n",
      "['Hiring', 'Product Management', 'Investment Banking', 'Internships', 'Major Internet Companies', 'Management Consulting and Management Consulting Firms', 'Startup Acquisitions', 'Technology Companies', 'Startups in India', 'Job Interviews', 'Visas', 'Startup Business Models', 'Silicon Valley', 'Human Resources', 'Stocks (financial)', 'Trading (finance)', 'Retail', 'Seed Funding', 'Stock Market', 'Brands and Branding', 'Management']\n",
      "\n",
      "Cluster 22\n",
      "['Wikipedia', 'Natural Language Processing', 'eBooks', 'TopCoder', 'Problem Solving', 'C (programming language)', 'Linguistics', 'Self-Teaching', 'Spanish (language)', 'Needs Spelling, Grammar, Capitalization, or Formatting Edits', 'Learning Languages', 'C++ (programming language)', 'Japanese (language)', 'Human Memory', 'Online Education', 'Phrases', 'Non-Fiction', 'Creativity', 'Learning New Things', 'Linear Algebra', 'Programmers', 'Probability', 'Creative Writing', 'Open Source', 'Geometry', 'Reading', 'Competitive Programming', 'Authors', 'Chinese (language)', 'Martial Arts', 'Learning']\n",
      "\n",
      "Cluster 23\n",
      "['NBA', 'Television Series', 'Movie Making', 'Football (US)', 'Movie Business', 'Hollywood', 'Movie Story and Plot Themes', 'Game of Thrones (TV series)', 'Basketball', 'Video Games', 'Sports', 'Television', 'Entertainment', 'Bollywood', 'NFL', 'Actors and Actresses', 'Movie Directors', 'Football (Soccer)']\n",
      "\n",
      "Cluster 24\n",
      "['Medicine and Healthcare', 'Health and Wellness']\n",
      "\n",
      "Cluster 25\n",
      "['Monetization', 'Logo Design', 'Valuations', 'Illustration', 'Job Interview Questions', 'Freelancing', 'Nonprofit Organizations', 'Professional Résumés', 'eBay', 'Tech Blogs and Websites', 'Online Shopping', 'Bengaluru, Karnataka, India', 'Revenue Models', 'Mergers and Acquisitions', 'Reddit', 'Bitcoin', 'E-learning', 'PayPal', 'Responsive Web Design', 'Product Design (software)', 'Failure', 'Product Development', 'Startup Ideas', 'Tech Startups', 'Y Combinator', 'Affiliate Marketing', 'Internet Security', 'Startup Recruiting', 'Ideas', 'Buying Cars', 'Needs More Information', 'Shopping', 'Facebook Pages', 'Interior Design', 'Collaboration', 'TechCrunch', 'Quora Infrastructure', 'Personal Productivity', 'Product Marketing', 'Sales', 'Foursquare', 'Information Security', 'Agile Development', 'Consulting', 'Crowdfunding', 'Chief Executive Officers', 'Offices', 'Web Analytics', 'Working at Google', 'Mark Zuckerberg', 'Yahoo!', 'Logos', 'DIY Mentality', 'Charities', 'Online Communities', 'Social Entrepreneurship', 'Toronto, ON', 'Copywriting', 'Interviewing', 'Flipkart', 'Business Development', 'Hacking (general programming)', 'Seattle, WA', 'Hotels', 'Startup Attorneys, Law and Legal Issues', 'Exams and Tests', 'Kickstarter', 'Tumblr', 'Domain Names']\n",
      "\n",
      "Cluster 26\n",
      "['India']\n",
      "\n",
      "Cluster 27\n",
      "['Quora', 'Quora Community', 'Quora (product)']\n",
      "\n",
      "Cluster 28\n",
      "['Career Advice', 'Job Search', 'Recruiting', 'Jobs', 'Careers']\n",
      "\n",
      "Cluster 29\n",
      "['Questions That Contain Spoilers', 'Ancient Rome', 'Artwork', 'Comics (narrative art form)', 'The Dark Knight Rises (2012 movie)', 'Photographs', 'Comic Books', 'Acting', 'Screenwriting', 'Publishing', 'Tennis', 'Batman (comics, movie and creative franchise)', 'Star Trek (movie, TV and creative franchise)', 'Videos', 'Hip Hop Music', 'Hindi (language)', 'Movie and TV Characters', 'Copyright Law', 'Spotify', 'Bollywood Movies', 'World Cinema', 'DC Comics', 'Doctor Who (TV series)', 'Comedy', 'Harry Potter (books, movies and creative franchise)', 'Novels', 'Animation', 'Copyright Infringement', 'News', 'Leadership', 'Games', 'Popular Culture', 'Fiction', 'Science Fiction (genre)', 'Musical Instruments', 'What Would You Do If X?', 'Writing Fiction', 'Cartoons', 'Iconic Images', 'Creative People and Artists', 'Poker', 'Best Photographs of X', 'Pop Music', 'Classical Music', 'A Song of Ice and Fire (book series)', 'Fine Art', 'Color and Colors', 'Poetry', 'Modern Art', 'Star Wars (movie, book and general franchise)', 'Famous Quotes', 'Academy Awards', 'Literary Fiction', 'Chess']\n",
      "\n",
      "Cluster 30\n",
      "['Death and Dying', 'The Church of Jesus Christ of Latter-day Saints (the Mormons)', 'Sociology', 'The Big Philosophical Questions', 'The Human Race and Condition', 'Spirituality and Personal Religion', 'LGBTQ', 'Judaism', 'Theology', 'Catholicism', 'Society', 'Human Evolution', 'Morals and Morality', 'Genetics and Heredity', 'Beliefs', 'The Bible', 'Jesus', 'Word Definitions, Terminology, and Jargon', 'Ethics', 'Hypothetical Questions', 'Culture (social science)', 'Science and Religion', 'Armchair Philosophy']\n",
      "\n",
      "Cluster 31\n",
      "['Computer Science', 'Computer Programming', 'Software Engineering']\n",
      "\n",
      "Cluster 32\n",
      "['Mobile Applications', 'iOS', 'Mobile Phones', 'Android Applications', 'iPhone Applications', 'iOS App Store', 'iOS Development', 'iPhone', 'Apple Inc.', 'Smartphones', 'Android (OS)']\n",
      "\n",
      "Cluster 33\n",
      "['Facebook Engineering', 'Facebook Platform', 'Web Browsers', 'Google Recruiting, Retention, and People', 'Instagram', 'Google Chrome', 'Web Search', 'Evernote', 'Mozilla Firefox', 'OS X', 'Digital Photography', 'Android Devices', 'Google Reader', 'Pinterest', 'Macintosh (Mac) Computers', 'Mobile Advertising', 'Gmail', 'Email Marketing', 'Email', 'Google Maps', 'Google+', 'Google Search', 'Amazon', 'Android Development', 'iPhone 5', 'MySQL', 'iTunes', 'Google', 'Search Engines', 'The Internet', 'Google Glass', 'Cloud Computing', 'Amazon Web Services', 'Typefaces', 'Productivity', 'Google Analytics', 'Microsoft', 'LinkedIn']\n",
      "\n",
      "Cluster 34\n",
      "['Psychology']\n",
      "\n",
      "Cluster 35\n",
      "['Graduate School', 'Indian Institutes of Technology', 'Academia', 'Colleges and Universities']\n",
      "\n",
      "Cluster 36\n",
      "['Literature', 'Writing', 'Book Recommendations', 'Books']\n",
      "\n",
      "Cluster 37\n",
      "['Dating Advice', 'What Does It Feel Like to X?', 'Love', 'Friendship', 'Interpersonal Interaction', 'Dating and Relationships', 'Social Advice']\n",
      "\n",
      "Cluster 38\n",
      "['Economics']\n",
      "\n",
      "Cluster 39\n",
      "['Science', 'Physics']\n",
      "\n",
      "Cluster 40\n",
      "['Startups']\n",
      "\n",
      "Cluster 41\n",
      "['Food']\n",
      "\n",
      "Cluster 42\n",
      "['Christianity', 'Atheism', 'Religion', 'Philosophy']\n",
      "\n",
      "Cluster 43\n",
      "['Social Media Marketing', 'Social Networks (online)', 'Facebook Inc. (company)', 'Facebook', 'Social Media']\n",
      "\n",
      "Cluster 44\n",
      "['Politics', 'U.S. Politics', 'Barack Obama', 'Republican Party (U.S.)', 'Political Campaigns and Elections', 'U.S. Presidential Elections', 'Mitt Romney', '2012 U.S. Elections', '2012 U.S. Presidential Election']\n",
      "\n",
      "Cluster 45\n",
      "['Boston Marathon Terrorist Attacks (April 2013)', 'Law Enforcement and the Police', 'Questions That Contain Assumptions', 'Gun Control', 'U.S. Federal, State, and Local Law', 'Human Rights', 'Legal Issues', 'Civil Rights', 'Criminal Law', '2012 Summer Olympics in London', 'Guns and Firearms', 'Law', 'United Kingdom', 'Olympic Games']\n",
      "\n",
      "Cluster 46\n",
      "['Life']\n",
      "\n",
      "Cluster 47\n",
      "['Exercise', 'Nutrition', 'Alcohol', 'Human Biology', 'Weight Loss', 'Zoology', 'Healthy Living', 'Strength Training and Weightlifting', 'Neurology', 'Cooking', 'Vegetarianism', 'Healthy Eating', 'Sleep', 'Human Anatomy', 'Running', 'Animal Behavior (Ethology)', 'Drinking (alcohol)', 'Bodybuilding', 'Nature', 'Diets', 'Water', 'Fitness']\n",
      "\n",
      "Cluster 48\n",
      "['Education', 'Higher Education']\n",
      "\n",
      "Cluster 49\n"
     ]
    },
    {
     "name": "stdout",
     "output_type": "stream",
     "text": [
      "['Relationship Advice', 'Fashion and Style', 'Gender Differences', 'Racism', 'Names and Naming', 'Manners and Etiquette', 'Gender', 'Beauty', 'Cheating (relationship and marital infidelity)', 'Breaking Bad (TV series)', 'Online Dating', 'Jokes', 'Needs Improvement', 'Dating Etiquette', 'Race and Ethnicity', 'Crime', 'Sexism', 'Sex Workers and Prostitution', 'Family and Families', 'Celebrities', 'Romance (love)', 'Girls and Young Women', 'Suicide', \"Men's Fashion\", 'Abortion', 'Dogs (pets)', 'Attractive Women', 'Aging (biology)']\n",
      "\n",
      "Cluster 50\n",
      "['Grammar', 'Languages', 'Words', 'English (language)']\n",
      "\n",
      "Cluster 51\n",
      "['Algorithms', 'Machine Learning']\n",
      "\n",
      "Cluster 52\n",
      "['San Francisco', 'London, UK', 'Real Estate', 'San Francisco Bay Area', 'New York City', 'International Travel', 'Air Travel', 'Travel', 'Palo Alto, CA', 'Airlines', 'Tourism']\n",
      "\n",
      "Cluster 53\n",
      "['Angel Investors', 'Lean Startups', 'Angel Investing', 'Startup Founders and Entrepreneurs', 'Venture Capital', 'Startup Advice and Strategy', 'Entrepreneurship']\n",
      "\n",
      "Cluster 54\n",
      "['Linux', 'JavaScript', 'Python (programming language)', 'Learning to Program', 'Programming Languages', 'PHP', 'Ruby on Rails', 'Java (programming language)']\n",
      "\n",
      "Cluster 55\n",
      "['Web Design', 'Web Development']\n",
      "\n",
      "Cluster 56\n",
      "['Human Brain', 'Mental Health', 'Neuroscience']\n",
      "\n",
      "Cluster 57\n",
      "['Harvard University', 'Birla Institute of Technology and Science, Pilani', 'Indian Institute of Technology,  Kanpur', 'Netaji Subhas Institute of Technology', 'Indian Institute of Technology, Kharagpur', 'Edtech', 'Indian Institute of Technology, Delhi', 'Graduate School Admissions', 'Studies and Studying', \"Master's Programs\", 'Teaching', 'Intelligence Quotient', 'Materials Science', 'MIT (Massachusetts Institute of Technology)', 'Stanford University', 'Students', 'Architecture', 'The College and University Experience', 'Schools', 'The High School Experience', 'Master of Business Administration', 'Academic Papers', 'The Ivy League', 'Indian Institute of Technology, Bombay', 'Education Reform\\nand Disruption', 'Computer Science Education', 'Indian Institute of Technology, Guwahati', 'Academic Research']\n",
      "\n",
      "Cluster 58\n",
      "['Online and Mobile Payments', 'U.S. Taxes', 'Taxes', 'Banking', 'Money', 'Accounting', 'Personal Finance', 'Tax Law', 'Banking (excl. Investment Banking)', 'Tax Policy', 'Payments', 'Credit Cards ']\n",
      "\n",
      "Cluster 59\n",
      "['Wisdom', 'Wine', 'Pune, Maharashtra, India', 'The Lord of the Rings (books, movies and creative franchise)', 'Sachin Tendulkar (cricketer)', 'Climate Change', 'Teenagers and Teenage Years', 'Fantasy (genre)', 'Dancing', 'Electronic Music', 'Hygiene', 'Buddhism', 'Atmospheric Science', 'Dreams', 'Coffee', 'Thinking', 'Weather', 'Values and Principles', 'Restaurants', 'Cartoon Network', 'Flowers', 'Inspiration', 'Needs Attention', 'MLB', 'Reality Television', 'Holidays', 'Pregnancy', 'People', 'Los Angeles', 'Education in India', 'Etymology', 'Smell and Smells', 'Foodies', 'Babies', 'Taste (sense)', 'Optics', 'Human Physiology', 'Recipes', 'Child Development', 'Vacations', 'Cycling', 'Trolling', 'Phrase Origins', 'What Is It Like to Work at X?', 'Eating', 'Slang', '2012–13 NFL Season', 'Premier League', 'Formula 1', 'Mahabharata', 'Organic Chemistry', 'Travel Hacks', 'Thermodynamics', 'Success', 'Shoes', 'Food Science', 'Game of Thrones Season 3', 'Anthropology', 'Safety', 'Child Psychology', 'Beer', 'DNA', 'Ice Cream', 'Weddings', 'LGBTQ Culture', 'Professional Sports', 'Wealth', 'Addiction', 'Scientists', 'Perception', 'Birds', 'Fraud', 'Wildlife', 'Taiwan', 'Beverages', 'Insults', 'Baseball', 'Genius and Geniuses', 'Chinese Culture', 'Myers Briggs Type Indicator', 'Thailand', 'Cities and Metro Areas', 'Songs', 'Dental Health and Hygiene', 'Pain (sensation)', 'Geography', 'Tamil (language)', 'Meditation', 'Depression', 'Lifestyle', '2012-13 NBA Season', 'Ramayana', '20s (age)', 'Clothing', 'Chennai, Tamil Nadu, India', 'Dentistry', 'Cats (pets)', 'Meaning of Life', 'Pets', 'Traffic', 'Attractiveness and Attractive People', 'Guitars', 'Evolutionary Psychology', 'Online Journalism', 'Insects', 'NBA Players', 'New Delhi, India', 'Indian Institute of Management Ahmedabad', 'Too Reliant on Question Details']\n",
      "\n",
      "Cluster 60\n",
      "[]\n",
      "\n",
      "Cluster 61\n",
      "[]\n",
      "\n",
      "Cluster 62\n",
      "[]\n",
      "\n",
      "Cluster 63\n",
      "[]\n",
      "\n",
      "Cluster 64\n",
      "[]\n",
      "\n",
      "Cluster 65\n",
      "[]\n",
      "\n",
      "Cluster 66\n",
      "[]\n",
      "\n",
      "Cluster 67\n",
      "[]\n",
      "\n",
      "Cluster 68\n",
      "[]\n",
      "\n",
      "Cluster 69\n",
      "[]\n",
      "\n",
      "Cluster 70\n",
      "[]\n",
      "\n",
      "Cluster 71\n",
      "[]\n",
      "\n",
      "Cluster 72\n",
      "[]\n",
      "\n",
      "Cluster 73\n",
      "[]\n",
      "\n",
      "Cluster 74\n",
      "[]\n",
      "\n",
      "Cluster 75\n",
      "[]\n",
      "\n",
      "Cluster 76\n",
      "[]\n",
      "\n",
      "Cluster 77\n",
      "[]\n",
      "\n",
      "Cluster 78\n",
      "[]\n",
      "\n",
      "Cluster 79\n",
      "[]\n",
      "\n",
      "Cluster 80\n",
      "[]\n",
      "\n",
      "Cluster 81\n",
      "[]\n",
      "\n",
      "Cluster 82\n",
      "[]\n",
      "\n",
      "Cluster 83\n",
      "[]\n",
      "\n",
      "Cluster 84\n",
      "[]\n",
      "\n",
      "Cluster 85\n",
      "[]\n",
      "\n",
      "Cluster 86\n",
      "[]\n",
      "\n",
      "Cluster 87\n",
      "[]\n",
      "\n",
      "Cluster 88\n",
      "[]\n",
      "\n",
      "Cluster 89\n",
      "[]\n",
      "\n",
      "Cluster 90\n",
      "[]\n",
      "\n",
      "Cluster 91\n",
      "[]\n",
      "\n",
      "Cluster 92\n",
      "[]\n",
      "\n",
      "Cluster 93\n",
      "[]\n",
      "\n",
      "Cluster 94\n",
      "[]\n",
      "\n",
      "Cluster 95\n",
      "[]\n",
      "\n",
      "Cluster 96\n",
      "[]\n",
      "\n",
      "Cluster 97\n",
      "[]\n",
      "\n",
      "Cluster 98\n",
      "[]\n",
      "\n",
      "Cluster 99\n",
      "[]\n"
     ]
    }
   ],
   "source": [
    "\n",
    "for cluster in range(0,100): \n",
    "    print(\"\\nCluster %d\" % cluster)\n",
    "    words = []\n",
    "    for i in range(0,len(word_centroid_map.values())):\n",
    "        if(list(word_centroid_map.values())[i] == cluster ):\n",
    "            words.append(list(word_centroid_map.keys())[i])\n",
    "    print(words)\n"
   ]
  },
  {
   "cell_type": "code",
   "execution_count": 61,
   "metadata": {},
   "outputs": [
    {
     "name": "stdout",
     "output_type": "stream",
     "text": [
      "dict_values([5, 3, 1, 3, 3, 3, 3, 3, 3, 3, 3, 3, 3, 9, 1, 9, 3, 3, 1, 3, 3, 3, 3, 3, 3, 3, 2, 3, 3, 1, 6, 3, 5, 3, 3, 3, 1, 1, 3, 3, 9, 3, 1, 3, 1, 3, 3, 1, 9, 1, 3, 3, 6, 1, 3, 3, 1, 3, 3, 9, 1, 3, 1, 1, 3, 3, 3, 3, 3, 3, 3, 9, 3, 3, 3, 1, 1, 3, 3, 9, 3, 1, 2, 0, 1, 0, 1, 1, 3, 3, 9, 0, 1, 3, 3, 3, 1, 1, 3, 3, 3, 1, 3, 3, 1, 1, 3, 3, 3, 3, 5, 3, 3, 3, 1, 4, 3, 3, 1, 9, 3, 9, 3, 3, 3, 3, 2, 3, 3, 3, 3, 3, 3, 1, 1, 3, 9, 3, 1, 1, 1, 1, 3, 3, 3, 9, 1, 1, 1, 1, 3, 1, 5, 3, 9, 3, 3, 3, 3, 3, 3, 3, 3, 3, 3, 3, 3, 1, 9, 3, 1, 3, 3, 9, 1, 3, 9, 3, 3, 8, 9, 1, 9, 3, 3, 3, 3, 1, 9, 3, 1, 6, 3, 3, 3, 3, 3, 1, 3, 3, 3, 3, 3, 3, 3, 1, 9, 3, 3, 3, 3, 3, 3, 3, 3, 3, 1, 1, 3, 9, 1, 1, 3, 3, 3, 3, 2, 1, 3, 6, 1, 1, 3, 3, 3, 3, 1, 3, 1, 1, 3, 3, 1, 3, 1, 3, 3, 1, 3, 3, 1, 3, 3, 1, 1, 3, 3, 3, 3, 3, 1, 2, 3, 3, 3, 1, 3, 1, 1, 3, 3, 9, 3, 1, 3, 9, 1, 3, 3, 3, 3, 1, 3, 3, 1, 1, 3, 3, 1, 3, 3, 3, 1, 3, 3, 1, 3, 2, 1, 1, 3, 3, 1, 3, 3, 8, 1, 9, 3, 3, 3, 3, 9, 3, 1, 8, 3, 3, 3, 3, 1, 3, 6, 3, 3, 3, 3, 3, 1, 3, 1, 3, 3, 3, 3, 3, 1, 3, 2, 1, 3, 3, 3, 3, 3, 3, 3, 3, 9, 3, 3, 3, 3, 3, 9, 3, 3, 1, 3, 3, 1, 3, 1, 3, 3, 3, 3, 3, 1, 3, 3, 9, 9, 3, 1, 3, 1, 3, 3, 3, 1, 3, 9, 3, 3, 1, 3, 3, 3, 3, 3, 3, 3, 3, 3, 3, 3, 3, 1, 3, 3, 3, 3, 3, 3, 3, 9, 3, 3, 3, 3, 1, 5, 3, 3, 3, 9, 6, 3, 1, 3, 1, 3, 3, 3, 3, 1, 1, 9, 9, 3, 3, 3, 3, 3, 0, 3, 3, 3, 1, 3, 3, 3, 3, 3, 1, 1, 3, 3, 9, 3, 1, 3, 1, 3, 9, 9, 3, 3, 9, 1, 3, 3, 1, 1, 3, 3, 3, 9, 9, 1, 3, 9, 1, 1, 3, 3, 1, 1, 3, 3, 1, 6, 3, 1, 3, 1, 1, 3, 3, 3, 3, 1, 5, 0, 3, 1, 1, 3, 3, 3, 3, 1, 3, 3, 3, 3, 3, 3, 3, 3, 3, 3, 3, 9, 3, 3, 3, 3, 1, 3, 3, 3, 3, 3, 3, 3, 9, 3, 1, 9, 3, 3, 3, 3, 3, 1, 3, 3, 3, 3, 3, 1, 1, 3, 1, 3, 1, 3, 6, 9, 3, 7, 3, 1, 3, 9, 7, 9, 3, 1, 1, 9, 9, 3, 3, 3, 3, 9, 3, 3, 3, 3, 1, 3, 3, 3, 3, 3, 3, 1, 1, 3, 3, 3, 3, 3, 3, 3, 3, 3, 0, 1, 4, 1, 7, 3, 3, 3, 9, 3, 3, 3, 3, 3, 1, 9, 3, 3, 3, 9, 3, 3, 3, 1, 3, 9, 3, 3, 1, 9, 3, 5, 1, 3, 1, 1, 9, 7, 3, 3, 3, 4, 3, 1, 3, 1, 3, 3, 3, 3, 3, 3, 3, 3, 3, 1, 1, 3, 3, 3, 3, 1, 1, 8, 1, 3, 3, 3, 3, 1, 9, 3, 1, 0, 3, 3, 9, 5, 3, 3, 1, 3, 3, 9, 3, 1, 3, 3, 7, 3, 1, 1, 3, 1, 3, 3, 1, 9, 1, 3, 3, 3, 3, 9, 1, 3, 3, 3, 1, 3, 1, 3, 3, 9, 9, 3, 3, 9, 3, 3, 5, 3, 3, 3, 3, 3, 1, 3, 9, 1, 3, 2, 3, 1, 3, 9, 3, 3, 3, 1, 1, 1, 3, 1, 3, 3, 1, 3, 3, 2, 1, 3, 9, 3, 1, 3, 9, 4, 3, 3, 3, 1, 3, 7, 1, 1, 3, 3, 1, 3, 3, 1, 3, 3, 1, 3, 9, 2, 1, 3, 3, 9, 0, 3, 3, 1, 3, 3, 9, 3, 1, 1, 3, 3, 1, 3, 5, 3, 1, 1, 1, 1, 1, 9, 3, 1, 3, 1, 3, 3, 1, 3, 3, 1, 3, 3, 1, 3, 1, 1, 1, 3, 3, 3, 3, 3, 9, 9, 3, 3, 3, 9, 3, 3, 1, 1, 1, 1, 3, 0, 3, 3, 1, 3, 3, 3, 9, 3, 9, 3, 3, 5, 3, 3, 3, 0, 1, 1, 3, 9, 9, 3, 3, 9, 3, 3, 6, 1, 3, 1, 3, 1, 3, 3, 1, 1, 8, 1, 3, 1, 3, 3, 3, 3, 9, 3, 3, 3, 3, 3, 3, 1, 3, 3, 3, 3, 3, 9, 1, 3, 3, 3, 3, 1, 3, 1, 3, 1, 1, 3, 3, 3, 3, 9, 3, 1, 1, 1, 3, 1, 9, 3, 3, 3, 1, 3, 1, 3, 3, 3, 3, 9, 9, 1, 1, 9, 3, 3, 9, 3, 3, 3, 3, 3, 9, 1, 1, 3, 1, 9, 0, 3, 1, 3, 3, 1, 3, 3, 1, 3, 3, 1, 3, 3, 1, 9, 3, 9, 3, 3, 1, 1, 3, 3, 3, 3, 4, 3, 3, 1, 1, 3, 3, 8, 9, 1, 3, 1, 8, 1, 3, 3, 1, 3, 3, 3, 3, 3, 3, 3, 3, 9, 3, 3, 3, 3, 3, 2, 3, 3, 3, 3, 3, 3, 1, 0, 3, 3, 3, 9, 1, 3, 6, 3, 9, 3, 3, 3, 3, 3, 3, 3, 3, 3, 3, 3, 3, 3, 3, 3, 3, 3, 3, 3, 1, 9, 3, 1, 6, 1, 1, 1, 9, 3, 3, 1, 3, 3, 3, 9, 1, 3, 1, 1, 3, 3, 3, 3, 3, 1, 9, 3, 1, 3, 1, 3, 3, 6, 3, 9, 1, 3, 1, 3, 3, 9, 3, 3, 1, 3, 1, 5, 1, 3, 3, 3, 0, 3, 1, 1, 3, 9, 1, 0, 1, 3, 3, 3, 3, 3, 1, 7, 1, 3, 3, 9, 1, 3, 1, 3, 1, 3, 3, 1, 9, 3, 1, 9, 3, 3, 9, 3, 3, 3, 3, 3, 9, 3, 9, 1, 3, 3, 9, 1, 1, 9, 1, 3, 1, 0, 3, 1, 3, 8, 9, 3, 1, 3, 3, 1, 3, 1, 3, 3, 1, 3, 1, 3, 9, 1, 3, 3, 1, 3, 3, 3, 1, 9, 3, 1, 8, 3, 3, 9, 2, 3, 3, 3, 3, 1, 3, 9, 3, 1, 3, 3, 3, 3, 3, 1, 9, 3, 1, 3, 0, 3, 3, 1, 3, 3, 3, 1, 3, 9, 1, 9, 3, 1, 3, 3, 1, 3, 6, 3, 3, 3, 1, 3, 3, 3, 3, 9, 1, 1, 9, 3, 3, 3, 7, 3, 9, 3, 3, 1, 1, 3, 3, 3, 1, 6, 9, 1, 3, 3, 1, 9, 6, 3, 3, 3, 3, 3, 3, 3, 9, 1, 3, 3, 3, 1, 3, 3, 3, 5, 9, 1, 3, 3, 3, 1, 9, 3, 3, 3, 3, 3, 3, 1, 3, 3, 5, 1, 3, 3, 3, 3, 9, 3, 3, 3, 3, 1, 1, 3, 3, 3, 1, 3, 3, 1, 3, 9, 9, 3, 9, 3, 1, 3, 3, 3, 3, 3, 1, 2, 1, 3, 3, 3, 3, 1, 1, 3, 3, 3, 3, 1, 3, 1, 3, 2, 9, 3, 1, 6, 1, 3, 3, 1, 6, 3, 3, 3, 1, 3, 3, 3, 3, 3, 3, 1, 3, 3, 3, 9, 3, 3, 3, 3, 3, 3, 1, 3, 1, 3, 0, 1, 3, 3, 1, 3, 3, 3, 3, 3, 3, 1, 9, 3, 1, 3, 3, 1, 3, 9, 1, 3, 3, 3, 1, 3, 3, 8, 1, 5, 1, 1, 3, 3, 1, 3, 3, 3, 1, 3, 3, 3, 9, 3, 3, 9, 3, 3, 1, 3, 3, 1, 3, 9, 3, 3, 3, 3, 3, 3, 3, 3, 1, 1, 3, 1, 3, 3, 4, 3, 1, 3, 3, 9, 3, 3, 9, 3, 1, 3, 3, 3, 3, 3, 3, 1, 3, 9, 1, 1, 1, 1, 2, 9, 3, 1, 3, 3, 3, 1, 3, 3, 3, 3, 1, 3, 3, 3, 9, 1, 1, 1, 9, 1, 3, 3, 3, 1, 1, 1, 3, 3, 3, 3, 3, 1, 5, 3, 2, 1, 3, 8, 3, 3, 1, 9, 3, 2, 3, 0, 3, 6, 3, 3, 3, 3, 3, 1, 3, 1, 3, 1, 1, 9, 3, 3, 5, 1, 3, 3, 3, 3, 3, 9, 3, 9, 3, 3, 3, 3, 3, 1, 3, 3, 3, 3, 3, 3, 3, 3, 2, 3, 3, 3, 3, 3, 3, 3, 3, 3, 1, 4, 9, 1, 3, 3, 1, 3, 9, 1, 1, 9, 3, 5, 1, 2, 9, 1, 8, 9, 3, 1, 1, 3, 3, 1, 8, 3, 1, 9, 3, 1, 1, 3, 3, 3, 3, 1, 3, 1, 3, 3, 3, 2, 1, 9, 3, 9, 3, 2, 3, 3, 3, 3, 3, 3, 3, 3, 1, 3, 3, 3, 1, 6, 9, 1, 9, 3, 1, 3, 3, 1, 3, 1, 3, 3, 3, 1, 3, 1, 3, 5, 3, 3, 3, 3, 3, 3, 7, 1, 9, 1, 3, 3, 9, 1, 3, 3, 1, 3, 3, 1, 1, 3, 3, 1, 3, 3, 3, 1, 3, 1, 3, 3, 1, 1, 9, 6, 3, 3, 1, 3, 1, 1, 3, 3, 3, 1, 3, 3, 3, 3, 3, 3, 1, 3, 1, 3, 1, 1, 1, 9, 9, 3, 3, 1, 3, 3, 1, 3, 3, 3, 3, 3, 1, 1, 3, 3, 3, 1, 3, 3, 5, 9, 5, 3, 1, 3, 1, 9, 3, 3, 3, 1, 9, 3, 3, 3, 3, 3, 3, 3, 3, 9, 3, 3, 3, 1, 3, 3, 3, 3, 3, 1, 3, 1, 3, 1, 9, 3, 9, 3, 9, 3, 3, 3, 3, 3, 3, 3, 5, 1, 9, 3, 1, 3, 1, 3, 1, 2, 3, 3, 1, 3, 3, 3, 9, 3, 3, 3, 1, 3, 3, 3, 3, 3, 3, 1, 1, 3, 3, 3, 3, 9, 3, 1, 1, 3, 3, 9, 3, 3, 3, 9, 3, 3, 9, 9, 9, 1, 3, 1, 9, 4, 3, 3, 3, 1, 1, 9, 3, 6, 0, 1, 9, 0, 1, 3, 3, 0, 1, 1, 9, 9, 3, 3, 3, 5, 3, 3, 3, 3, 3, 3, 3, 3, 3, 3, 3, 1, 3, 9, 3, 3, 3, 3, 3, 1, 3, 1, 1, 3, 1, 3, 3, 3, 3, 3, 3, 3, 1, 1, 3, 3, 1, 1, 3, 1, 3, 9, 1, 1, 1, 3, 1, 3, 9, 3, 1, 9, 3, 1, 1, 3, 3, 3, 1, 3, 9, 9, 0, 1, 3, 3, 1, 3, 3, 9, 3, 3, 3, 3, 3, 1, 6, 1, 1, 3, 3, 1, 3, 1, 1, 9, 1, 1, 3, 3, 9, 3, 3, 3, 3, 9, 6, 5, 3, 3, 3, 3, 5, 1, 3, 1, 3, 3, 9, 3, 3, 3, 3, 3, 3, 1, 3, 3, 3, 1, 9, 3, 3, 6, 3, 3, 1, 1, 3, 9, 3, 9, 3, 3, 1, 3, 9, 4, 1, 3, 1, 1, 0, 9, 3, 3, 8, 1, 8, 1, 1, 3, 3, 3, 3, 3, 3, 0, 3, 3, 3, 3, 9, 1, 3, 3, 3, 3, 9, 3, 1, 3, 1, 3, 3, 1, 3, 3, 9, 1, 3, 3, 1, 1, 3, 1, 3, 3, 3, 8, 3, 5, 3, 1, 1, 1, 3, 1, 3, 1, 3, 1, 1, 3, 3, 3, 3, 3, 3, 3, 3, 3, 3, 1, 3, 9, 3, 1, 3, 9, 3, 1, 3, 9, 3, 3, 3, 1, 3, 6, 3, 3, 1, 9, 1, 1, 3, 1, 9, 3, 3, 3, 7, 1, 1, 3, 3, 9, 1, 3, 3, 3, 1, 3, 3, 3, 1, 3, 0, 1, 3, 1, 1, 3, 3, 3, 3, 1, 1, 3, 3, 3, 1, 0, 9, 1, 1, 3, 1, 3, 3, 1, 3, 3, 3, 2, 1, 3, 2, 3, 3, 3, 1, 3, 1, 3, 3, 3, 3, 3, 1, 3, 3, 3, 9, 1, 3, 3, 3, 9, 9, 3, 3, 3, 5, 3, 9, 1, 3, 3, 3, 3, 1, 1, 3, 3, 3, 3, 3, 3, 1, 1, 5, 3, 3, 1, 9, 3, 1, 3, 3, 1, 1, 3, 3, 9, 1, 3, 1, 9, 1, 9, 1, 9, 1, 1, 1, 3, 3, 3, 3, 3, 3, 1, 1, 3, 3, 3, 3, 3, 3, 8, 3, 3, 3, 9, 1, 1, 3, 3, 3, 1, 3, 1, 3, 1, 3, 9, 1, 3, 1, 3, 3, 6, 3, 3, 1, 3, 3, 3, 3, 8, 3, 1, 3, 1, 9, 3, 5, 3, 3, 3, 3, 3, 1, 1, 3, 3, 3, 1, 3, 7, 3, 3, 3, 3, 3, 9, 3, 3, 3, 3, 1, 3, 1, 9, 3, 7, 1, 3, 3, 1, 3, 1, 3, 3, 1, 3, 1, 3, 3, 3, 9, 1, 9, 3, 9, 1, 3, 3, 3, 3, 3, 2, 3, 3, 3, 1, 3, 3, 3, 3, 3, 3, 9, 3, 1, 3, 3, 9, 3, 3, 3, 3, 9, 1, 3, 1, 3, 3, 3, 3, 9, 3, 3, 3, 3, 6, 3, 1, 9, 3, 1, 3, 3, 3, 3, 1, 9, 8, 3, 4, 1, 3, 9, 1, 1, 3, 3, 3, 1, 3, 1, 3, 3, 1, 3, 1, 3, 3, 1, 3, 3, 1, 1, 3, 3, 3, 1, 3, 3, 9, 3, 3, 1, 1, 3, 3, 3, 3, 9, 9, 3, 3, 3, 6, 3, 1, 3, 3, 1, 9, 1, 1, 1, 9, 3, 3, 3, 3, 2, 3, 9, 3, 1, 3, 3, 3, 3, 3, 3, 3, 5, 3, 1, 3, 3, 3, 3, 3, 1, 3, 3, 1, 9, 3, 3, 3, 1, 3, 3, 1, 1, 1, 1, 3, 9, 7, 1, 3, 3, 0, 3, 3, 3, 0, 3, 3, 3, 3, 3, 1, 3, 3, 3, 1, 3, 3, 3, 3, 3, 3, 1, 3, 1, 1, 3, 1, 3, 3, 3, 3, 3, 3, 3, 1, 1, 3, 9, 3, 3, 3, 3, 3, 1, 3, 1, 5, 3, 3, 1, 1, 3, 1, 3, 3, 9, 1, 3, 3, 9, 3, 3, 3, 1, 3, 3, 3, 1, 3, 1, 3, 1, 3, 3, 1, 3, 8, 3, 3, 3, 9, 3, 3, 9, 3, 3, 3, 3, 3, 1, 3, 3, 3, 3, 3, 3, 9, 9, 3, 3, 3, 1, 3, 3, 3, 1, 1, 3, 1, 1, 9, 9, 1, 3, 3, 3, 3, 3, 3, 3, 1, 1, 3, 3, 3, 3, 3, 0, 1, 1, 3, 3, 1, 3, 3, 3, 3, 3, 1, 3, 3, 3, 1, 3, 9, 3, 3, 3, 3, 5, 9, 9, 1, 1, 1, 3, 9, 1, 3, 3, 9, 1, 1, 3, 3, 9, 9, 3, 1, 3, 3, 1, 1, 9, 3, 3, 1, 1, 1, 9, 1, 3, 1, 1, 3, 1, 0, 3, 3, 3, 9, 1, 3, 3, 3, 3, 1, 1, 3, 3, 3, 1, 1, 9, 3, 9, 3, 1, 3, 3, 3, 9, 1, 3, 3, 3, 3, 1, 3, 1, 1, 2, 3, 3, 3, 1, 3, 3, 2, 3, 9, 3, 1, 3, 3, 3, 1, 3, 6, 3, 3, 1, 3, 3, 3, 3, 3, 1, 3, 3, 1, 9, 3, 1, 3, 0, 3, 3, 1, 3, 3, 1, 6, 5, 3, 3, 1, 1, 1, 3, 3, 3, 3, 3, 3, 8, 3, 5, 3, 3, 3, 1, 3, 1, 3, 1, 3, 3, 3, 3, 3, 3, 3, 9, 3, 9, 3, 3, 1, 5, 1, 3, 3, 1, 3, 1, 3, 3, 1, 1, 0, 3, 3, 2, 3, 3, 1, 3, 3, 3, 3, 9, 3, 3, 3, 3, 9, 3, 3, 3, 3, 3, 1, 1, 3, 3, 9, 3, 1, 1, 1, 3, 9, 3, 3, 3, 1, 3, 5, 3, 3, 9, 3, 3, 3, 3, 3, 3, 1, 9, 1, 3, 3, 3, 3, 3, 3, 3, 3, 3, 3, 3, 3, 1, 3, 1, 3, 9, 3, 9, 3, 1, 3, 3, 9, 3, 3, 1, 1, 3, 3, 1, 3, 9, 1, 4, 8, 3, 9, 3, 9, 3, 1, 3, 3, 3, 3, 6, 3, 3, 1, 9, 3, 3, 3, 3, 3, 3, 3, 9, 3, 3, 9, 3, 3, 3, 3, 3, 3, 3, 3, 3, 3, 3, 3, 3, 6, 9, 1, 1, 3, 1, 3, 3, 3, 3, 3, 5, 3, 3, 3, 1, 3, 1, 3, 3, 1, 1, 3, 3, 1, 3, 3, 9, 3, 1, 3, 1, 3, 3, 3, 3, 1, 3, 1, 3, 3, 9, 9, 3, 1, 3, 3, 3, 9, 3, 3, 3, 3, 9, 3, 5, 9, 1, 5, 9, 1, 3, 3, 0, 5, 1, 3, 3, 5, 3, 3, 3, 3, 1, 3, 1, 3, 3, 3, 3, 1, 1, 3, 1, 1, 3, 3, 1, 3, 3, 3, 3, 1, 1, 1, 1, 3, 3, 3, 1, 3, 5, 1, 3, 3, 3, 3, 3, 3, 1, 1, 1, 1, 3, 3, 3, 3, 3, 3, 1, 1, 3, 1, 1, 1, 1, 1, 3, 3, 3, 3, 3, 3, 3, 3, 3, 3, 1, 3, 1, 3, 3, 1, 4, 3, 3, 1, 3, 3, 1, 1, 3, 3, 3, 9, 3, 3, 3, 3, 3, 3, 1, 1, 3, 3, 3, 3, 3, 3, 1, 3, 3, 3, 9, 3, 1, 1, 3, 5, 1, 9, 3, 3, 1, 1, 9, 3, 3, 9, 3, 3, 3, 3, 9, 1, 3, 3, 9, 3, 3, 3, 3, 3, 1, 1, 3, 1, 1, 1, 3, 3, 3, 3, 4, 3, 3, 1, 1, 3, 1, 3, 1, 3, 9, 3, 1, 3, 1, 3, 3, 3, 3, 3, 3, 3, 1, 3, 9, 3, 9, 3, 3, 1, 5, 3, 3, 1, 3, 1, 1, 3, 3, 9, 3, 3, 3, 3, 3, 3, 3, 3, 1, 1, 3, 3, 3, 3, 3, 1, 1, 3, 3, 1, 3, 7, 1, 3, 2, 3, 3, 1, 1, 1, 3, 1, 1, 9, 8, 3, 1, 1, 1, 3, 3, 3, 3, 1, 3, 9, 3, 0, 3, 3, 3, 3, 9, 1, 3, 1, 9, 1, 3, 9, 3, 3, 3, 3, 1, 3, 1, 1, 3, 1, 3, 3, 1, 3, 3, 3, 9, 1, 3, 1, 3, 3, 9, 3, 3, 3, 3, 5, 9, 3, 3, 3, 3, 1, 2, 3, 1, 3, 3, 3, 9, 3, 1, 3, 3, 2, 2, 3, 1, 1, 3, 3, 3, 1, 3, 3, 1, 1, 8, 9, 3, 3, 3, 3, 1, 1, 9, 1, 3, 3, 1, 3, 1, 3, 3, 9, 3, 3, 3, 3, 3, 3, 3, 0, 3, 3, 3, 3, 1, 3, 3, 3, 3, 1, 9, 3, 3, 3, 1, 1, 3, 1, 3, 3, 3, 3, 3, 3, 3, 3, 3, 3, 3, 1, 1, 3, 3, 1, 3, 9, 3, 3, 3, 3, 3, 3, 3, 3, 9, 1, 3, 3, 3, 3, 3, 3, 1, 3, 3, 3, 3, 1, 3, 3, 3, 3, 3, 1, 3, 3, 3, 8, 3, 2, 9, 3, 3, 3, 3, 3, 3, 1, 3, 3, 3, 9, 1, 1, 3, 4, 3, 1, 6, 1, 9, 3, 1, 3, 3, 3, 1, 3, 3, 3, 1, 3, 3, 3, 1, 1, 3, 9, 3, 3, 1, 1, 3, 9, 3, 1, 9, 3, 3, 3, 1, 3, 3, 3, 3, 8, 1, 3, 1, 1, 3, 3, 3, 1, 1, 3, 3, 3, 9, 1, 3, 3, 9, 9, 3, 3, 3, 3, 3, 1, 3, 3, 3, 3, 3, 3, 9, 3, 3, 3, 3, 3, 3, 1, 3, 3, 3, 0, 3, 3, 2, 1, 3, 1, 1, 9, 9, 9, 1, 1, 3, 1, 3, 3, 3, 3, 1, 9, 3, 3, 3, 3, 3, 3, 3, 3, 3, 3, 1, 3, 9, 3, 3, 4, 3, 3, 1, 3, 3, 3, 3, 3, 3, 3, 3, 3, 3, 1, 1, 1, 1, 1, 3, 3, 3, 3, 1, 3, 5, 3, 3, 9, 1, 3, 3, 1, 3, 3, 3, 3, 7, 1, 3, 3, 3, 9, 3, 2, 9, 3, 3, 1, 3, 3, 3, 0, 3, 3, 3, 3, 3, 3, 3, 9, 3, 3, 3, 3, 3, 1, 3, 1, 3, 3, 3, 3, 3, 9, 1, 3, 3, 1, 3, 3, 9, 1, 1, 1, 3, 3, 3, 3, 7, 3, 1, 3, 3, 5, 3, 3, 9, 3, 5, 1, 3, 1, 3, 1, 3, 3, 9, 1, 7, 3, 3, 9, 1, 9, 3, 1, 9, 1, 3, 3, 3, 3, 1, 3, 3, 0, 8, 9, 3, 3, 3, 3, 3, 9, 3, 3, 3, 3, 3, 3, 3, 5, 3, 3, 4, 3, 3, 3, 1, 1, 3, 1, 3, 3, 3, 8, 3, 3, 3, 1, 1, 1, 3, 3, 3, 3, 3, 3, 2, 3, 1, 9, 9, 3, 1, 9, 9, 3, 9, 3, 3, 3, 3, 3, 3, 3, 9, 1, 1, 3, 1, 1, 3, 1, 3, 1, 1, 3, 1, 1, 5, 3, 3, 1, 3, 3, 1, 3, 3, 9, 3, 1, 5, 3, 1, 3, 3, 9, 1, 3, 0, 3, 3, 9, 3, 9, 3, 3, 1, 3, 3, 3, 3, 3, 3, 1, 3, 3, 3, 3, 9, 1, 3, 1, 3, 3, 1, 2, 1, 3, 3, 3, 3, 4, 3, 3, 3, 3, 3, 1, 3, 3, 9, 3, 3, 3, 3, 1, 1, 9, 1, 3, 1, 3, 3, 9, 3, 3, 3, 3, 9, 3, 3, 3, 3, 9, 3, 1, 3, 3, 3, 1, 9, 1, 1, 3, 3, 1, 9, 1, 1, 3, 9, 3, 3, 3, 3, 3, 3, 3, 3, 1, 9, 1, 5, 9, 4, 1, 3, 3, 3, 3, 1, 3, 3, 3, 2, 1, 9, 1, 9, 1, 3, 1, 3, 3, 3, 3, 0, 3, 1, 3, 3, 9, 3, 3, 1, 1, 3, 3, 3, 3, 3, 3, 9, 3, 3, 3, 2, 3, 9, 1, 3, 3, 3, 3, 3, 1, 3, 3, 1, 9, 3, 1, 1, 5, 3, 1, 1, 3, 9, 3, 3, 1, 3, 0, 3, 3, 1, 1, 3, 3, 6, 1, 1, 1, 3, 3, 1, 1, 3, 3, 3, 1, 1, 9, 9, 3, 3, 3, 3, 3, 3, 3, 3, 3, 1, 1, 3, 3, 3, 0, 3, 3, 5, 1, 3, 9, 3, 3, 3, 3, 4, 3, 1, 1, 3, 3, 3, 9, 3, 3, 1, 3, 3, 3, 1, 3, 9, 3, 3, 3, 3, 3, 9, 3, 3, 9, 9, 1, 9, 3, 9, 3, 3, 3, 3, 3, 3, 3, 2, 5, 9, 3, 3, 6, 1, 3, 8, 3, 3, 3, 1, 3, 9, 1, 3, 3, 9, 3, 1, 3, 3, 1, 3, 1, 3, 3, 3, 3, 1, 3, 3, 1, 3, 1, 1, 3, 1, 3, 3, 3, 5, 3, 3, 1, 5, 3, 3, 1, 0, 1, 1, 3, 3, 3, 3, 3, 3, 3, 3, 3, 3, 9, 1, 3, 3, 3, 1, 1, 3, 1, 3, 3, 1, 3, 3, 3, 3, 1, 3, 9, 1, 1, 3, 1, 3, 3, 3, 1, 9, 9, 3, 1, 3, 2, 1, 1, 1, 1, 1, 3, 3, 3, 3, 1, 3, 1, 1, 1, 3, 9, 3, 3, 1, 3, 1, 6, 3, 3, 1, 3, 3, 3, 3, 9, 3, 1, 1, 3, 9, 3, 3, 3, 1, 9, 3, 3, 3, 3, 3, 2, 3, 3, 3, 3, 3, 9, 3, 3, 1, 3, 3, 9, 3, 1, 9, 3, 3, 1, 9, 3, 1, 3, 1, 3, 7, 3, 3, 3, 3, 9, 3, 3, 9, 3, 3, 3, 3, 3, 3, 3, 3, 3, 1, 1, 3, 3, 8, 0, 3, 3, 3, 9, 3, 3, 3, 3, 3, 3, 1, 1, 3, 3, 3, 9, 1, 3, 3, 3, 1, 1, 3, 1, 8, 2, 1, 1, 3, 6, 3, 3, 3, 1, 3, 3, 3, 3, 3, 1, 3, 3, 3, 3, 1, 3, 1, 3, 9, 3, 9, 9, 5, 5, 1, 2, 3, 3, 3, 3, 3, 9, 3, 3, 2, 3, 3, 3, 3, 3, 3, 3, 1, 3, 3, 3, 1, 3, 3, 3, 3, 8, 9, 3, 3, 1, 3, 9, 9, 2, 3, 3, 3, 3, 3, 3, 3, 1, 1, 3, 3, 3, 3, 3, 1, 1, 9, 3, 1, 1, 3, 3, 1, 1, 3, 3, 9, 1, 3, 3, 3, 9, 1, 3, 3, 3, 1, 3, 3, 3, 1, 1, 9, 1, 3, 9, 1, 9, 3, 3, 3, 3, 1, 3, 3, 9, 3, 3, 6, 1, 9, 3, 3, 3, 3, 3, 3, 1, 1, 9, 3, 3, 3, 3, 9, 3, 3, 1, 1, 3, 1, 9, 1, 3, 3, 3, 3, 6, 2, 3, 1, 1, 3, 3, 3, 3, 1, 3, 3, 3, 3, 9, 1, 3, 9, 3, 3, 3, 3, 1, 3, 3, 3, 1, 2, 3, 3, 3, 3, 3, 9, 0, 3, 3, 3, 3, 3, 3, 3, 3, 3, 3, 3, 3, 3, 3, 3, 1, 1, 1, 3, 3, 3, 1, 9, 3, 3, 3, 3, 3, 3, 3, 3, 3, 9, 3, 1, 3, 9, 9, 1, 9, 1, 3, 5, 3, 3, 3, 3, 3, 3, 3, 1, 9, 3, 8, 3, 3, 1, 3, 3, 1, 3, 1, 3, 3, 3, 3, 1, 3, 3, 9, 1, 3, 3, 1, 9, 1, 1, 1, 3, 3, 1, 3, 9, 1, 9, 9, 3, 3, 3, 3, 8, 1, 3, 1, 3, 3, 3, 1, 3, 9, 3, 1, 3, 2, 1, 0, 3, 1, 3, 3, 3, 3, 8, 1, 3, 3, 3, 3, 1, 1, 3, 9, 3, 8, 3, 3, 9, 0, 1, 3, 1, 3, 3, 3, 1, 1, 1, 3, 1, 9, 3, 3, 1, 3, 3, 9, 3, 3, 3, 3, 1, 3, 3, 3, 3, 3, 3, 9, 1, 3, 3, 3, 3, 3, 3, 3, 1, 1, 9, 2, 3, 3, 3, 3, 1, 1, 3, 3, 1, 1, 3, 8, 9, 3, 1, 3, 1, 3, 3, 3, 3, 3, 1, 3, 3, 3, 3, 1, 5, 3, 3, 3, 1, 1, 3, 8, 9, 3, 3, 1, 3, 3, 1, 3, 3, 3, 1, 3, 3, 3, 1, 3, 3, 1, 1, 3, 8, 3, 3, 3, 3, 3, 1, 3, 3, 3, 1, 3, 3, 1, 9, 7, 1, 1, 3, 3, 9, 3, 3, 3, 1, 3, 3, 1, 1, 1, 1, 3, 1, 1, 3, 1, 1, 3, 3, 3, 9, 3, 3, 3, 1, 2, 1, 9, 1, 3, 1, 3, 3, 3, 3, 3, 1, 3, 9, 1, 3, 3, 9, 3, 3, 3, 9, 1, 3, 9, 9, 3, 3, 3, 3, 2, 3, 1, 3, 3, 3, 1, 3, 3, 3, 3, 1, 1, 3, 3, 3, 3, 3, 3, 1, 3, 3, 1, 3, 3, 3, 3, 1, 1, 3, 3, 3, 1, 1, 3, 9, 1, 3, 1, 1, 3, 9, 3, 1, 3, 3, 3, 1, 3, 9, 3, 3, 9, 3, 4, 1, 3, 3, 3, 3, 3, 1, 3, 8, 3, 3, 1, 1, 9, 3, 1, 3, 3, 3, 1, 1, 3, 1, 3, 3, 3, 3, 3, 1, 5, 8, 3, 3, 3, 3, 1, 3, 9, 3, 3, 3, 3, 3, 1, 3, 3, 1, 1, 3, 1, 3, 1, 3, 1, 1, 1, 3, 9, 1, 3, 3, 3, 3, 1, 3, 3, 3, 3, 3, 1, 1, 3, 3, 1, 3, 3, 3, 3, 3, 3, 3, 3, 1, 3, 3, 3, 3, 3, 3, 3, 3, 1, 9, 3, 3, 3, 1, 3, 5, 3, 3, 3, 3, 3, 3, 3, 3, 1, 2, 3, 9, 8, 3, 1, 9, 3, 1, 1, 3, 1, 3, 3, 1, 3, 3, 3, 3, 1, 3, 3, 3, 5, 1, 3, 3, 3, 1, 1, 1, 9, 3, 1, 3, 3, 1, 3, 3, 1, 3, 3, 3, 1, 1, 3, 3, 3, 1, 1, 3, 3, 3, 3, 3, 3, 3, 1, 3, 3, 3, 1, 3, 3, 3, 3, 3, 1, 1, 1, 3, 3, 9, 1, 1, 3, 3, 1, 3, 3, 1, 3, 3, 3, 3, 3, 0, 1, 1, 3, 3, 1, 3, 1, 3, 1, 1, 3, 3, 3, 3, 3, 1, 5, 3, 3, 3, 3, 3, 3, 3, 1, 3, 3, 3, 1, 9, 3, 3, 3, 1, 1, 3, 3, 3, 1, 3, 3, 3, 9, 9, 3, 3, 1, 3, 9, 1, 3, 1, 3, 3, 3, 3, 6, 6, 3, 1, 1, 9, 6, 3, 3, 3, 9, 3, 1, 3, 3, 3, 3, 3, 3, 8, 3, 3, 3, 3, 3, 3, 9, 1, 3, 1, 3, 1, 3, 3, 3, 9, 3, 3, 1, 1, 3, 1, 3, 9, 3, 3, 1, 3, 3, 3, 5, 1, 3, 9, 3, 2, 1, 9, 1, 5, 3, 3, 3, 3, 3, 3, 3, 3, 3, 3, 3, 3, 3, 1, 3, 3, 3, 3, 1, 1, 5, 3, 3, 3, 3, 3, 9, 3, 3, 3, 3, 3, 2, 9, 3, 3, 3, 1, 3, 1, 3, 3, 3, 1, 3, 3, 1, 3, 9, 5, 3, 3, 3, 1, 1, 3, 3, 3, 9, 3, 3, 9, 3, 3, 9, 3, 3, 3, 3, 3, 3, 9, 9, 3, 3, 1, 9, 9, 3, 3, 1, 3, 3, 3, 3, 9, 3, 1, 3, 3, 9, 3, 3, 1, 9, 9, 1, 3, 3, 3, 3, 6, 3, 9, 3, 3, 1, 3, 3, 3, 3, 9, 3, 1, 3, 3, 9, 1, 3, 1, 3, 3, 3, 3, 3, 9, 3, 3, 3, 9, 1, 1, 3, 3, 3, 3, 3, 3, 1, 3, 9, 1, 3, 6, 1, 1, 3, 3, 1, 3, 3, 1, 3, 9, 3, 3, 1, 9, 3, 3, 3, 1, 3, 3, 3, 5, 3, 3, 1, 3, 1, 3, 3, 3, 3, 3, 3, 3, 3, 3, 9, 3, 1, 1, 3, 3, 3, 3, 1, 1, 3, 1, 9, 3, 1, 3, 9, 3, 3, 3, 3, 3, 3, 9, 1, 3, 3, 1, 1, 3, 3, 5, 9, 3, 3, 3, 3, 3, 1, 3, 3, 3, 5, 3, 3, 3, 3, 3, 1, 3, 3, 3, 3, 3, 3, 3, 1, 3, 9, 3, 3, 3, 1, 3, 3, 3, 3, 9, 1, 3, 3, 3, 3, 9, 3, 3, 3, 1, 1, 1, 3, 1, 1, 3, 1, 3, 3, 9, 3, 3, 3, 3, 1, 3, 3, 9, 1, 3, 3, 5, 1, 3, 3, 3, 3, 3, 3, 3, 1, 3, 1, 3, 3, 1, 3, 1, 3, 9, 3, 1, 9, 3, 3, 5, 1, 3, 3, 3, 1, 3, 3, 9, 1, 3, 3, 9, 3, 9, 3, 9, 0, 3, 3, 1, 3, 3, 1, 9, 3, 3, 1, 3, 1, 1, 3, 3, 3, 3, 2, 3, 3, 2, 9, 3, 3, 1, 3, 1, 1, 9, 1, 3, 1, 3, 1, 9, 4, 1, 3, 1, 3, 3, 3, 3, 9, 3, 3, 3, 3, 9, 9, 3, 2, 3, 3, 1, 3, 1, 1, 3, 3, 1, 3, 3, 3, 3, 3, 3, 3, 3, 9, 1, 9, 5, 3, 3, 3, 9, 3, 3, 3, 1, 3, 3, 1, 1, 3, 1, 1, 3, 1, 3, 3, 3, 3, 2, 1, 3, 9, 9, 3, 1, 3, 1, 3, 1, 9, 3, 4, 3, 3, 1, 1, 2, 3, 3, 1, 3, 3, 3, 3, 3, 1, 1, 3, 2, 3, 1, 3, 1, 9, 3, 4, 1, 1, 1, 3, 3, 3, 3, 3, 1, 3, 1, 1, 1, 1, 3, 3, 3, 1, 1, 1, 1, 3, 1, 3, 3, 8, 0, 3, 3, 6, 3, 1, 3, 1, 9, 3, 3, 3, 3, 1, 3, 3, 3, 3, 3, 1, 3, 9, 3, 3, 0, 3, 3, 3, 9, 3, 3, 3, 3, 3, 4, 3, 7, 3, 1, 9, 0, 3, 0, 3, 9, 3, 2, 3, 1, 3, 3, 3, 3, 3, 3, 3, 3, 3, 1, 3, 3, 1, 9, 3, 0, 9, 1, 6, 9, 3, 9, 3, 3, 3, 3, 3, 3, 3, 3, 9, 3, 1, 1, 3, 1, 7, 3, 3, 8, 3, 9, 3, 3, 1, 1, 3, 3, 1, 1, 1, 1, 1, 3, 1, 3, 3, 3, 9, 1, 3, 9, 3, 3, 1, 1, 1, 1, 3, 3, 3, 3, 3, 1, 3, 3, 1, 5, 3, 3, 3, 9, 3, 3, 1, 3, 0, 9, 1, 3, 3, 3, 1, 3, 3, 3, 3, 3, 3, 3, 3, 9, 9, 3, 3, 9, 3, 3, 3, 1, 3, 3, 3, 3, 3, 2, 1, 3, 1, 3, 3, 0, 1, 3, 9, 5, 3, 3, 2, 9, 3, 9, 1, 3, 3, 3, 3, 3, 3, 3, 9, 3, 1, 1, 1, 3, 1, 3, 3, 3, 1, 3, 1, 3, 3, 1, 3, 5, 3, 3, 3, 1, 3, 1, 3, 9, 3, 9, 1, 1, 0, 3, 3, 3, 3, 9, 1, 3, 3, 3, 3, 3, 3, 9, 6, 3, 3, 3, 1, 1, 1, 6, 3, 3, 3, 3, 3, 1, 9, 1, 3, 3, 9, 1, 1, 3, 3, 3, 3, 3, 3, 3, 3, 3, 3, 1, 3, 1, 1, 2, 3, 3, 1, 1, 3, 3, 3, 3, 3, 3, 1, 3, 3, 1, 9, 3, 8, 3, 9, 1, 3, 9, 3, 9, 3, 1, 3, 3, 1, 3, 3, 1, 6, 9, 3, 1, 3, 1, 3, 3, 1, 3, 3, 1, 3, 3, 1, 3, 3, 1, 3, 9, 1, 3, 3, 1, 1, 3, 3, 3, 3, 1, 1, 1, 3, 3, 4, 3, 9, 3, 3, 3, 3, 6, 3, 9, 3, 3, 1, 3, 3, 1, 3, 1, 3, 1, 5, 4, 1, 5, 3, 9, 3, 1, 3, 3, 3, 3, 3, 3, 3, 3, 9, 3, 3, 1, 3, 3, 3, 3, 1, 2, 3, 3, 3, 1, 1, 9, 3, 3, 9, 3, 3, 1, 3, 3, 9, 3, 1, 3, 1, 1, 3, 3, 9, 3, 3, 9, 1, 1, 3, 1, 1, 3, 3, 3, 7, 0, 3, 3, 3, 3, 3, 1, 0, 3, 5, 1, 3, 1, 1, 1, 9, 3, 9, 3, 0, 3, 3, 3, 3, 1, 3, 3, 3, 9, 9, 3, 9, 3, 3, 3, 1, 3, 1, 3, 9, 5, 5, 3, 3, 3, 1, 1, 3, 3, 3, 3, 1, 9, 3, 1, 3, 1, 3, 3, 3, 1, 3, 3, 3, 9, 3, 3, 3, 9, 3, 1, 3, 1, 3, 3, 1, 1, 3, 3, 1, 1, 1, 3, 1, 3, 1, 3, 3, 3, 3, 9, 3, 3, 3, 3, 3, 3, 3, 3, 9, 3, 3, 1, 3, 3, 3, 3, 1, 1, 9, 3, 3, 1, 1, 3, 3, 3, 1, 0, 3, 3, 1, 3, 3, 3, 3, 3, 1, 3, 3, 3, 8, 2, 1, 9, 3, 1, 3, 9, 3, 3, 3, 3, 1, 3, 1, 9, 1, 4, 9, 3, 3, 3, 3, 3, 2, 3, 3, 1, 3, 3, 3, 3, 2, 2, 0, 1, 3, 3, 0, 3, 3, 3, 1, 9, 1, 3, 3, 3, 3, 9, 3, 1, 3, 3, 3, 3, 3, 3, 3, 3, 3, 1, 3, 8, 3, 3, 2, 1, 3, 3, 1, 9, 3, 1, 1, 1, 3, 1, 3, 3, 1, 1, 1, 5, 3, 3, 1, 9, 1, 9, 3, 3, 3, 3, 1, 3, 1, 1, 1, 3, 1, 3, 1, 3, 3, 1, 2, 1, 3, 3, 9, 3, 5, 3, 3, 5, 3, 3, 1, 3, 3, 9, 3, 3, 3, 3, 1, 1, 3, 1, 9, 0, 3, 3, 1, 3, 1, 3, 3, 9, 3, 3, 3, 3, 3, 3, 2, 3, 3, 9, 3, 1, 1, 1, 9, 3, 3, 3, 9, 3, 3, 3, 3, 3, 3, 1, 3, 1, 1, 3, 3, 1, 3, 3, 3, 3, 3, 1, 3, 9, 3, 3, 3, 3, 1, 1, 1, 3, 1, 1, 3, 9, 1, 3, 3, 3, 3, 6, 1, 3, 3, 3, 1, 1, 8, 1, 3, 1, 1, 1, 3, 3, 1, 1, 1, 3, 1, 3, 3, 3, 3, 3, 3, 3, 9, 1, 1, 3, 1, 3, 3, 3, 1, 3, 1, 3, 3, 1, 1, 3, 1, 1, 1, 1, 1, 1, 1, 3, 3, 3, 3, 3, 1, 3, 3, 3, 1, 1, 1, 3, 1, 3, 3, 3, 9, 1, 9, 3, 3, 3, 1, 3, 2, 3, 3, 3, 1, 1, 3, 3, 5, 3, 1, 1, 3, 1, 1, 1, 3, 3, 3, 1, 3, 3, 3, 3, 4, 3, 3, 3, 3, 9, 3, 3, 3, 3, 1, 3, 3, 3, 1, 3, 3, 9, 5, 1, 1, 9, 3, 0, 3, 3, 1, 3, 3, 1, 3, 3, 1, 3, 3, 3, 3, 3, 7, 1, 3, 9, 3, 3, 3, 1, 3, 9, 3, 1, 3, 3, 3, 3, 0, 1, 1, 3, 3, 3, 1, 3, 3, 3, 3, 3, 3, 9, 9, 3, 3, 9, 3, 3, 3, 1, 3, 3, 9, 9, 3, 9, 1, 3, 9, 3, 3, 3, 3, 3, 2, 9, 3, 9, 3, 3, 3, 3, 7, 3, 1, 1, 3, 3, 2, 3, 3, 3, 3, 9, 3, 3, 1, 3, 3, 1, 3, 9, 1, 3, 1, 3, 3, 1, 3, 3, 1, 3, 9, 3, 3, 3, 3, 9, 1, 3, 3, 1, 2, 3, 0, 3, 3, 1, 0, 3, 3, 3, 1, 3, 3, 1, 3, 3, 3, 5, 3, 9, 8, 1, 3, 1, 3, 3, 3, 3, 3, 3, 3, 3, 1, 3, 1, 3, 3, 3, 9, 3, 1, 8, 3, 3, 3, 9, 3, 3, 3, 9, 3, 1, 6, 1, 3, 1, 3, 3, 1, 3, 3, 3, 3, 1, 1, 3, 3, 3, 3, 3, 3, 3, 3, 1, 3, 9, 3, 1, 9, 3, 7, 3, 3, 3, 1, 1, 1, 3, 3, 1, 3, 1, 3, 9, 9, 9, 5, 3, 3, 1, 9, 3, 1, 4, 9, 3, 9, 5, 1, 3, 3, 3, 3, 3, 1, 1, 3, 3, 3, 3, 3, 3, 3, 2, 3, 3, 1, 3, 8, 3, 9, 1, 9, 9, 3, 9, 3, 1, 9, 7, 3, 3, 9, 3, 1, 3, 1, 3, 3, 3, 3, 9, 1, 1, 3, 3, 1, 1, 1, 3, 3, 3, 8, 1, 6, 3, 1, 3, 1, 1, 1, 3, 1, 3, 3, 1, 1, 3, 3, 3, 9, 1, 3, 3, 1, 1, 1, 3, 3, 3, 9, 3, 3, 3, 5, 3, 1, 3, 3, 3, 3, 3, 3, 3, 3, 3, 9, 1, 3, 3, 3, 3, 3, 3, 3, 3, 3, 3, 3, 1, 3, 1, 3, 3, 3, 3, 3, 9, 9, 1, 1, 3, 1, 3, 1, 3, 3, 3, 3, 3, 3, 3, 1, 3, 3, 3, 1, 8, 3, 1, 3, 1, 3, 9, 3, 3, 3, 3, 3, 1, 1, 3, 3, 3, 3, 3, 1, 1, 3, 1, 1, 3, 3, 3, 5, 3, 3, 3, 3, 3, 1, 1, 1, 3, 3, 1, 3, 3, 3, 1, 3, 3, 3, 1, 9, 3, 3, 5, 9, 3, 3, 3, 3, 3, 3, 5, 5, 3, 1, 3, 3, 1, 3, 3, 9, 1, 9, 1, 0, 3, 3, 3, 3, 3, 3, 1, 1, 3, 3, 3, 3, 1, 3, 3, 9, 3, 3, 1, 3, 1, 3, 6, 1, 3, 9, 3, 3, 9, 1, 3, 1, 3, 3, 3, 1, 9, 2, 3, 3, 1, 1, 5, 3, 1, 3, 3, 7, 1, 9, 9, 3, 3, 8, 3, 1, 1, 1, 3, 9, 1, 6, 3, 3, 9, 3, 3, 9, 8, 3, 3, 3, 1, 3, 1, 3, 3, 1, 1, 1, 3, 3, 3, 1, 9, 3, 3, 3, 1, 3, 1, 3, 3, 1, 1, 5, 3, 3, 1, 3, 3, 3, 3, 1, 3, 1, 3, 3, 3, 1, 3, 3, 9, 3, 3, 3, 3, 3, 1, 3, 3, 1, 3, 5, 3, 3, 3, 3, 3, 0, 1, 0, 3, 3, 9, 3, 3, 3, 3, 3, 3, 5, 3, 9, 1, 3, 3, 3, 4, 9, 9, 3, 3, 3, 9, 3, 3, 3, 3, 3, 3, 1, 1, 1, 1, 1, 9, 9, 3, 1, 9, 9, 3, 3, 1, 3, 3, 3, 3, 9, 1, 1, 3, 3, 1, 3, 3, 9, 3, 1, 3, 3, 1, 9, 3, 3, 1, 4, 3, 3, 1, 3, 9, 1, 3, 1, 3, 9, 3, 3, 3, 9, 3, 3, 3, 3, 9, 5, 9, 3, 3, 1, 5, 1, 3, 2, 7, 4, 1, 3, 3, 3, 3, 3, 3, 3, 1, 1, 3, 9, 1, 3, 3, 1, 1, 3, 3, 1, 3, 3, 9, 3, 3, 0, 3, 3, 3, 1, 3, 3, 3, 3, 3, 9, 3, 3, 3, 3, 1, 3, 3, 3, 3, 3, 3, 3, 9, 3, 3, 1, 3, 1, 5, 3, 3, 1, 3, 3, 3, 3, 3, 3, 3, 1, 0, 3, 3, 3, 1, 3, 3, 3, 1, 3, 3, 3, 3, 9, 3, 3, 3, 3, 1, 3, 3, 3, 3, 5, 3, 1, 3, 3, 3, 6, 0, 3, 3, 3, 1, 3, 1, 3, 9, 1, 1, 1, 3, 3, 3, 3, 3, 1, 1, 9, 3, 3, 3, 3, 3, 1, 3, 3, 9, 0, 3, 1, 1, 3, 3, 3, 1, 3, 3, 1, 3, 3, 1, 1, 1, 3, 3, 3, 9, 1, 1, 3, 3, 3, 3, 2, 4, 3, 9, 1, 3, 3, 3, 3, 1, 9, 3, 1, 9, 3, 1, 1, 4, 1, 3, 3, 3, 1, 3, 3, 3, 3, 3, 5, 3, 1, 3, 3, 1, 0, 3, 3, 1, 3, 3, 1, 1, 3, 1, 3, 9, 3, 3, 1, 3, 3, 3, 3, 1, 3, 1, 1, 1, 9, 3, 3, 3, 5, 3, 9, 9, 9, 9, 3, 3, 3, 3, 1, 3, 3, 3, 3, 9, 3, 3, 3, 3, 3, 3, 2, 1, 3, 3, 3, 9, 9, 9, 1, 9, 3, 3, 3, 1, 1, 3, 3, 1, 9, 3, 3, 3, 1, 1, 3, 3, 3, 9, 2, 3, 9, 3, 3, 3, 3, 9, 3, 5, 3, 3, 3, 3, 3, 1, 3, 3, 3, 3, 1, 3, 3, 1, 1, 0, 1, 3, 3, 1, 3, 3, 1, 3, 3, 9, 1, 1, 3, 9, 4, 9, 3, 1, 3, 9, 3, 3, 3, 3, 9, 1, 3, 1, 1, 3, 3, 3, 3, 3, 9, 3, 3, 3, 3, 1, 9, 1, 3, 1, 1, 3, 3, 1, 3, 3, 3, 9, 1, 0, 3, 3, 1, 3, 3, 3, 9, 9, 3, 1, 1, 3, 9, 3, 0, 1, 3, 3, 3, 3, 3, 3, 3, 1, 3, 3, 1, 3, 1, 1, 1, 1, 1, 1, 1, 3, 9, 3, 3, 6, 3, 3, 3, 3, 3, 3, 3, 3, 3, 3, 1, 9, 9, 3, 1, 3, 3, 9, 3, 3, 1, 1, 3, 5, 3, 3, 1, 3, 3, 3, 3, 3, 3, 3, 9, 2, 3, 9, 3, 3, 1, 6, 3, 1, 9, 3, 3, 1, 1, 3, 1, 3, 3, 3, 3, 1, 9, 3, 1, 3, 3, 3, 1, 1, 1, 1, 3, 3, 3, 3, 3, 3, 7, 4, 3, 1, 3, 3, 1, 3, 1, 9, 9, 3, 3, 2, 9, 9, 1, 3, 3, 1, 3, 3, 3, 9, 3, 9, 3, 3, 3, 3, 3, 3, 3, 9, 3, 1, 3, 8, 3, 3, 3, 3, 1, 9, 9, 5, 5, 1, 3, 1, 3, 3, 3, 1, 4, 3, 1, 9, 3, 3, 3, 1, 3, 3, 3, 3, 9, 3, 3, 3, 3, 3, 9, 3, 3, 9, 3, 3, 1, 3, 3, 3, 1, 7, 3, 1, 9, 3, 1, 1, 3, 3, 3, 3, 3, 9, 3, 3, 9, 3, 1, 3, 1, 1, 0, 3, 3, 3, 3, 3, 9, 3, 1, 3, 3, 5, 1, 3, 3, 3, 9, 9, 3, 7, 3, 3, 1, 3, 3, 1, 2, 3, 9, 1, 3, 3, 3, 3, 3, 5, 3, 3, 9, 3, 1, 3, 3, 9, 3, 9, 1, 3, 9, 3, 9, 5, 3, 3, 3, 3, 3, 3, 3, 9, 3, 3, 5, 1, 1, 9, 9, 3, 1, 3, 3, 9, 3, 3, 1, 3, 3, 3, 3, 3, 3, 3, 3, 3, 9, 3, 1, 3, 3, 1, 3, 3, 3, 3, 3, 3, 3, 3, 3, 3, 3, 3, 1, 3, 3, 9, 3, 3, 3, 3, 3, 0, 1, 3, 3, 3, 1, 3, 3, 3, 3, 3, 3, 9, 1, 3, 3, 3, 3, 1, 3, 3, 3, 1, 1, 1, 9, 3, 1, 1, 3, 3, 1, 1, 1, 1, 3, 3, 3, 3, 3, 3, 1, 3, 3, 1, 1, 1, 3, 3, 3, 3, 3, 3, 5, 3, 3, 3, 1, 1, 1, 1, 3, 9, 9, 3, 3, 3, 3, 3, 3, 3, 3, 3, 3, 3, 6, 3, 3, 3, 1, 3, 3, 1, 3, 3, 3, 3, 3, 3, 1, 1, 3, 0, 3, 1, 1, 3, 5, 3, 3, 1, 3, 1, 1, 3, 3, 3, 3, 3, 9, 3, 3, 1, 3, 3, 3, 3, 1, 1, 1, 1, 3, 3, 3, 3, 3, 3, 1, 3, 3, 3, 3, 1, 3, 3, 1, 3, 1, 3, 1, 3, 3, 3, 3, 3, 3, 3, 1, 1, 3, 3, 8, 1, 1, 7, 3, 1, 9, 1, 3, 3, 1, 3, 3, 9, 3, 1, 1, 3, 3, 3, 3, 6, 3, 3, 1, 3, 3, 9, 3, 1, 0, 3, 1, 9, 1, 1, 3, 3, 3, 3, 3, 3, 5, 9, 3, 1, 5, 3, 1, 1, 3, 1, 3, 3, 3, 3, 3, 3, 3, 3, 3, 3, 3, 1, 3, 1, 3, 3, 3, 1, 1, 4, 3, 3, 1, 3, 9, 3, 3, 3, 9, 3, 1, 3, 3, 1, 9, 3, 9, 3, 3, 3, 1, 9, 3, 3, 3, 3, 8, 9, 5, 1, 3, 3, 7, 3, 3, 3, 3, 1, 3, 3, 9, 3, 3, 3, 3, 9, 3, 3, 3, 3, 1, 3, 3, 1, 9, 3, 3, 1, 9, 3, 3, 3, 1, 1, 3, 3, 1, 3, 1, 1, 1, 3, 3, 3, 1, 1, 3, 3, 0, 9, 3, 3, 1, 9, 3, 3, 9, 3, 3, 3, 3, 1, 9, 3, 1, 3, 1, 3, 3, 3, 9, 1, 3, 0, 3, 8, 3, 1, 3, 3, 1, 3, 9, 3, 1, 3, 3, 0, 9, 9, 3, 3, 9, 3, 3, 3, 1, 1, 3, 1, 3, 3, 3, 3, 9, 3, 3, 3, 1, 3, 6, 3, 1, 3, 3, 7, 3, 3, 9, 3, 1, 3, 3, 3, 3, 3, 3, 3, 3, 3, 9, 3, 0, 3, 3, 3, 3, 9, 3, 1, 1, 3, 3, 3, 3, 8, 3, 9, 1, 1, 3, 3, 3, 1, 3, 1, 3, 9, 3, 3, 9, 3, 3, 3, 1, 9, 3, 3, 2, 9, 3, 3, 1, 3, 3, 3, 3, 2, 3, 3, 1, 3, 1, 3, 5, 3, 9, 9, 1, 3, 3, 3, 1, 3, 1, 3, 9, 1, 3, 3, 4, 5, 1, 6, 1, 1, 1, 3, 3, 3, 3, 3, 3, 9, 3, 3, 3, 3, 3, 2, 1, 3, 3, 3, 3, 3, 3, 3, 1, 3, 1, 3, 3, 3, 3, 3, 3, 3, 9, 3, 3, 3, 3, 1, 1, 3, 3, 1, 3, 1, 3, 3, 1, 3, 3, 3, 5, 3, 1, 3, 5, 3, 3, 3, 9, 9, 3, 3, 3, 3, 3, 1, 9, 1, 1, 3, 1, 9, 3, 3, 3, 3, 1, 9, 9, 6, 3, 3, 3, 3, 0, 3, 1, 3, 3, 3, 3, 1, 3, 3, 3, 3, 1, 3, 1, 3, 7, 3, 1, 3, 1, 3, 3, 3, 1, 3, 3, 3, 1, 1, 3, 3, 3, 3, 3, 3, 5, 3, 1, 1, 3, 8, 3, 1, 3, 3, 1, 1, 3, 3, 3, 3, 3, 3, 1, 3, 1, 1, 9, 1, 1, 1, 3, 1, 3, 3, 1, 9, 1, 3, 9, 3, 3, 1, 1, 1, 9, 3, 9, 3, 3, 3, 3, 3, 3, 3, 1, 3, 3, 5, 3, 3, 9, 3, 1, 3, 1, 3, 3, 3, 3, 3, 9, 2, 9, 2, 3, 3, 3, 3, 3, 9, 7, 3, 1, 6, 3, 1, 3, 3, 3, 3, 3, 1, 3, 1, 2, 9, 3, 3, 3, 3, 3, 3, 3, 9, 3, 1, 3, 3, 3, 3, 3, 3, 3, 3, 3, 1, 3, 1, 3, 3, 9, 1, 3, 3, 1, 1, 3, 5, 2, 3, 3, 3, 3, 3, 3, 3, 3, 3, 3, 3, 1, 9, 3, 3, 3, 3, 3, 1, 3, 3, 3, 3, 3, 3, 3, 1, 3, 3, 3, 3, 1, 1, 3, 3, 3, 1, 3, 3, 3, 8, 3, 3, 1, 3, 3, 1, 3, 3, 1, 9, 3, 1, 3, 3, 9, 1, 3, 1, 3, 3, 3, 1, 3, 1, 2, 3, 3, 3, 9, 3, 3, 1, 2, 3, 3, 3, 1, 3, 3, 3, 3, 9, 3, 3, 3, 3, 3, 3, 3, 1, 1, 3, 3, 3, 3, 3, 1, 3, 9, 3, 3, 5, 3, 1, 3, 3, 1, 0, 1, 3, 3, 5, 1, 1, 3, 3, 3, 3, 3, 3, 3, 3, 3, 3, 3, 3, 1, 3, 3, 3, 3, 1, 1, 1, 3, 3, 1, 3, 3, 2, 1, 9, 9, 3, 3, 6, 3, 1, 3, 3, 3, 1, 3, 3, 1, 1, 3, 3, 3, 3, 3, 3, 3, 3, 3, 9, 1, 3, 3, 3, 3, 9, 3, 3, 3, 3, 3, 3, 3, 3, 3, 3, 1, 3, 1, 3, 3, 1, 3, 1, 1, 3, 3, 9, 3, 3, 3, 3, 1, 3, 3, 3, 1, 3, 3, 3, 3, 1, 5, 3, 9, 3, 3, 6, 1, 3, 3, 1, 3, 3, 3, 1, 1, 3, 3, 9, 3, 3, 3, 1, 3, 3, 3, 9, 1, 3, 3, 3, 3, 3, 3, 3, 3, 3, 1, 3, 1, 3, 3, 1, 3, 9, 3, 3, 1, 1, 0, 0, 8, 6, 3, 7, 3, 3, 3, 3, 3, 8, 3, 5, 3, 1, 3, 3, 3, 1, 3, 1, 3, 3, 3, 9, 6, 1, 3, 1, 3, 1, 3, 1, 3, 1, 3, 3, 3, 3, 3, 3, 3, 5, 1, 3, 3, 1, 3, 3, 3, 3, 0, 3, 3, 3, 1, 1, 3, 3, 1, 1, 3, 9, 3, 9, 3, 1, 9, 3, 3, 1, 3, 9, 9, 9, 9, 3, 1, 1, 9, 1, 3, 3, 3, 1, 1, 3, 1, 9, 3, 1, 1, 1])\n"
     ]
    }
   ],
   "source": [
    "print(word_centroid_map.values())"
   ]
  },
  {
   "cell_type": "code",
   "execution_count": 192,
   "metadata": {},
   "outputs": [],
   "source": [
    "count = 0\n",
    "for i in question_list:\n",
    "    if len(i) > 1:\n",
    "        count += 1 "
   ]
  },
  {
   "cell_type": "code",
   "execution_count": 78,
   "metadata": {},
   "outputs": [
    {
     "data": {
      "text/plain": [
       "'Survey Questions'"
      ]
     },
     "execution_count": 78,
     "metadata": {},
     "output_type": "execute_result"
    }
   ],
   "source": [
    "topic_list[question_list.index(a)]"
   ]
  },
  {
   "cell_type": "code",
   "execution_count": 79,
   "metadata": {},
   "outputs": [
    {
     "data": {
      "text/plain": [
       "8762"
      ]
     },
     "execution_count": 79,
     "metadata": {},
     "output_type": "execute_result"
    }
   ],
   "source": [
    "len(question_list)"
   ]
  },
  {
   "cell_type": "code",
   "execution_count": 193,
   "metadata": {},
   "outputs": [
    {
     "data": {
      "text/plain": [
       "900"
      ]
     },
     "execution_count": 193,
     "metadata": {},
     "output_type": "execute_result"
    }
   ],
   "source": [
    "count"
   ]
  },
  {
   "cell_type": "code",
   "execution_count": 199,
   "metadata": {},
   "outputs": [],
   "source": [
    "question_list = []\n",
    "final_topic_list = []\n",
    "for topic in topic_list:\n",
    "    temp = []\n",
    "    for question in questions:\n",
    "        context = [i[\"name\"] for i in question[\"topics\"]]\n",
    "        if topic in context:\n",
    "            temp.append(question['question_text'])   \n",
    "    \n",
    "    question_list.append(temp)\n",
    "    final_topic_list.append(topic)\n",
    "topic_list = final_topic_list"
   ]
  },
  {
   "cell_type": "code",
   "execution_count": 200,
   "metadata": {},
   "outputs": [
    {
     "data": {
      "text/plain": [
       "8762"
      ]
     },
     "execution_count": 200,
     "metadata": {},
     "output_type": "execute_result"
    }
   ],
   "source": [
    "len(question_list)"
   ]
  },
  {
   "cell_type": "code",
   "execution_count": null,
   "metadata": {},
   "outputs": [],
   "source": []
  }
 ],
 "metadata": {
  "kernelspec": {
   "display_name": "Python 3",
   "language": "python",
   "name": "python3"
  },
  "language_info": {
   "codemirror_mode": {
    "name": "ipython",
    "version": 3
   },
   "file_extension": ".py",
   "mimetype": "text/x-python",
   "name": "python",
   "nbconvert_exporter": "python",
   "pygments_lexer": "ipython3",
   "version": "3.6.5"
  }
 },
 "nbformat": 4,
 "nbformat_minor": 2
}
